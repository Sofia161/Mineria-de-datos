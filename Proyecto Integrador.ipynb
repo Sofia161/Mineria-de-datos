{
 "cells": [
  {
   "cell_type": "markdown",
   "metadata": {},
   "source": [
    "# MI CARRERA IDEAL"
   ]
  },
  {
   "cell_type": "markdown",
   "metadata": {},
   "source": [
    "## EQUIPO 3\n",
    "**Mineria de datos Viernes de 3-6**\n",
    "\n",
    "Elvira Lizbeth Bolado Morín   1805613\n",
    "\n",
    "Ana Sofia Reyes Carrillo      1821790"
   ]
  },
  {
   "cell_type": "markdown",
   "metadata": {},
   "source": [
    "## Descripción de los datos"
   ]
  },
  {
   "cell_type": "markdown",
   "metadata": {},
   "source": [
    "Debido a la problemática que tienen los aspirantes a universidad, no es sencillo ni rápido ver cuál es el campo y carrera que da mejores ingresos salariales, creamos esta base de datos ya que nos ayudará a comparar salarios de carreras universitarias de Estados Unidos. Al inicio de la carrera, a la mitad y al graduarse.\n",
    "\n",
    "Esto gracias a la comparación de distintos campos con el fin de que el usuario pueda elegir la de su agrado dependiendo del salario que desee ganar."
   ]
  },
  {
   "cell_type": "markdown",
   "metadata": {},
   "source": [
    "**Datos de la base**"
   ]
  },
  {
   "cell_type": "markdown",
   "metadata": {},
   "source": [
    "- Cantidad de filas y de columnas"
   ]
  },
  {
   "cell_type": "code",
   "execution_count": 1,
   "metadata": {},
   "outputs": [
    {
     "data": {
      "text/plain": [
       "(50, 9)"
      ]
     },
     "execution_count": 1,
     "metadata": {},
     "output_type": "execute_result"
    }
   ],
   "source": [
    "import pandas as pd\n",
    "\n",
    "datos= pd.read_csv(\"carreras.csv\",encoding='utf8')\n",
    "datos.shape"
   ]
  },
  {
   "cell_type": "markdown",
   "metadata": {},
   "source": [
    "- Tipo de datos"
   ]
  },
  {
   "cell_type": "code",
   "execution_count": 2,
   "metadata": {},
   "outputs": [
    {
     "data": {
      "text/plain": [
       "Undergraduate Major                                   object\n",
       "Starting Median Salary                                 int64\n",
       "Mid-Career Median Salary                               int64\n",
       "Percent change from Starting to Mid-Career Salary    float64\n",
       "Mid-Career 10th Percentile Salary                      int64\n",
       "Mid-Career 25th Percentile Salary                      int64\n",
       "Mid-Career 75th Percentile Salary                      int64\n",
       "Mid-Career 90th Percentile Salary                      int64\n",
       "Best University                                       object\n",
       "dtype: object"
      ]
     },
     "execution_count": 2,
     "metadata": {},
     "output_type": "execute_result"
    }
   ],
   "source": [
    "datos.dtypes"
   ]
  },
  {
   "cell_type": "markdown",
   "metadata": {},
   "source": [
    "- Nombres columnas"
   ]
  },
  {
   "cell_type": "code",
   "execution_count": 3,
   "metadata": {},
   "outputs": [
    {
     "data": {
      "text/plain": [
       "Index(['Undergraduate Major', 'Starting Median Salary',\n",
       "       'Mid-Career Median Salary',\n",
       "       'Percent change from Starting to Mid-Career Salary',\n",
       "       'Mid-Career 10th Percentile Salary',\n",
       "       'Mid-Career 25th Percentile Salary',\n",
       "       'Mid-Career 75th Percentile Salary',\n",
       "       'Mid-Career 90th Percentile Salary', 'Best University'],\n",
       "      dtype='object')"
      ]
     },
     "execution_count": 3,
     "metadata": {},
     "output_type": "execute_result"
    }
   ],
   "source": [
    "datos.columns"
   ]
  },
  {
   "cell_type": "markdown",
   "metadata": {},
   "source": [
    "- Visualización de las primeras 5 filas "
   ]
  },
  {
   "cell_type": "code",
   "execution_count": 4,
   "metadata": {},
   "outputs": [
    {
     "data": {
      "text/html": [
       "<div>\n",
       "<style scoped>\n",
       "    .dataframe tbody tr th:only-of-type {\n",
       "        vertical-align: middle;\n",
       "    }\n",
       "\n",
       "    .dataframe tbody tr th {\n",
       "        vertical-align: top;\n",
       "    }\n",
       "\n",
       "    .dataframe thead th {\n",
       "        text-align: right;\n",
       "    }\n",
       "</style>\n",
       "<table border=\"1\" class=\"dataframe\">\n",
       "  <thead>\n",
       "    <tr style=\"text-align: right;\">\n",
       "      <th></th>\n",
       "      <th>Undergraduate Major</th>\n",
       "      <th>Starting Median Salary</th>\n",
       "      <th>Mid-Career Median Salary</th>\n",
       "      <th>Percent change from Starting to Mid-Career Salary</th>\n",
       "      <th>Mid-Career 10th Percentile Salary</th>\n",
       "      <th>Mid-Career 25th Percentile Salary</th>\n",
       "      <th>Mid-Career 75th Percentile Salary</th>\n",
       "      <th>Mid-Career 90th Percentile Salary</th>\n",
       "      <th>Best University</th>\n",
       "    </tr>\n",
       "  </thead>\n",
       "  <tbody>\n",
       "    <tr>\n",
       "      <td>0</td>\n",
       "      <td>Accounting</td>\n",
       "      <td>46000</td>\n",
       "      <td>77100</td>\n",
       "      <td>67.6</td>\n",
       "      <td>42200</td>\n",
       "      <td>56100</td>\n",
       "      <td>108000</td>\n",
       "      <td>152000</td>\n",
       "      <td>State University of New York (SUNY) at Oneonta</td>\n",
       "    </tr>\n",
       "    <tr>\n",
       "      <td>1</td>\n",
       "      <td>Aerospace Engineering</td>\n",
       "      <td>57700</td>\n",
       "      <td>101000</td>\n",
       "      <td>75.0</td>\n",
       "      <td>64300</td>\n",
       "      <td>82100</td>\n",
       "      <td>127000</td>\n",
       "      <td>161000</td>\n",
       "      <td>Embry-Riddle Aeronautical University (ERAU)</td>\n",
       "    </tr>\n",
       "    <tr>\n",
       "      <td>2</td>\n",
       "      <td>Agriculture</td>\n",
       "      <td>42600</td>\n",
       "      <td>71900</td>\n",
       "      <td>68.8</td>\n",
       "      <td>36300</td>\n",
       "      <td>52100</td>\n",
       "      <td>96300</td>\n",
       "      <td>150000</td>\n",
       "      <td>University of Hawaii</td>\n",
       "    </tr>\n",
       "    <tr>\n",
       "      <td>3</td>\n",
       "      <td>Anthropology</td>\n",
       "      <td>36800</td>\n",
       "      <td>61500</td>\n",
       "      <td>67.1</td>\n",
       "      <td>33800</td>\n",
       "      <td>45500</td>\n",
       "      <td>89300</td>\n",
       "      <td>138000</td>\n",
       "      <td>Dartmouth College</td>\n",
       "    </tr>\n",
       "    <tr>\n",
       "      <td>4</td>\n",
       "      <td>Architecture</td>\n",
       "      <td>41600</td>\n",
       "      <td>76800</td>\n",
       "      <td>84.6</td>\n",
       "      <td>50600</td>\n",
       "      <td>62200</td>\n",
       "      <td>97000</td>\n",
       "      <td>136000</td>\n",
       "      <td>University of Richmond</td>\n",
       "    </tr>\n",
       "  </tbody>\n",
       "</table>\n",
       "</div>"
      ],
      "text/plain": [
       "     Undergraduate Major  Starting Median Salary  Mid-Career Median Salary  \\\n",
       "0             Accounting                   46000                     77100   \n",
       "1  Aerospace Engineering                   57700                    101000   \n",
       "2            Agriculture                   42600                     71900   \n",
       "3           Anthropology                   36800                     61500   \n",
       "4           Architecture                   41600                     76800   \n",
       "\n",
       "   Percent change from Starting to Mid-Career Salary  \\\n",
       "0                                               67.6   \n",
       "1                                               75.0   \n",
       "2                                               68.8   \n",
       "3                                               67.1   \n",
       "4                                               84.6   \n",
       "\n",
       "   Mid-Career 10th Percentile Salary  Mid-Career 25th Percentile Salary  \\\n",
       "0                              42200                              56100   \n",
       "1                              64300                              82100   \n",
       "2                              36300                              52100   \n",
       "3                              33800                              45500   \n",
       "4                              50600                              62200   \n",
       "\n",
       "   Mid-Career 75th Percentile Salary  Mid-Career 90th Percentile Salary  \\\n",
       "0                             108000                             152000   \n",
       "1                             127000                             161000   \n",
       "2                              96300                             150000   \n",
       "3                              89300                             138000   \n",
       "4                              97000                             136000   \n",
       "\n",
       "                                  Best University  \n",
       "0  State University of New York (SUNY) at Oneonta  \n",
       "1     Embry-Riddle Aeronautical University (ERAU)  \n",
       "2                            University of Hawaii  \n",
       "3                               Dartmouth College  \n",
       "4                          University of Richmond  "
      ]
     },
     "execution_count": 4,
     "metadata": {},
     "output_type": "execute_result"
    }
   ],
   "source": [
    "datos.head()"
   ]
  },
  {
   "cell_type": "markdown",
   "metadata": {},
   "source": [
    "## Justificación del uso de datos"
   ]
  },
  {
   "cell_type": "markdown",
   "metadata": {},
   "source": [
    "Lo que más nos interesó fue que se tenían 3 conjuntos de datos acerca de carreras de Estados Unidos, donde se separan las carreras por campo, nivel salarial y universidad; entonces tenemos un mayor rango de opciones, para poder hacer una acertada elección de la carrera universitaria."
   ]
  },
  {
   "cell_type": "markdown",
   "metadata": {},
   "source": [
    "## Preguntas de interes"
   ]
  },
  {
   "cell_type": "markdown",
   "metadata": {},
   "source": [
    "- ¿Cuál de mis opciones de carreras a elegir me generara más ingresos salariales?\n",
    "- ¿En qué campo laboral puedo tener mejores ingresos?"
   ]
  },
  {
   "cell_type": "markdown",
   "metadata": {},
   "source": [
    "## 1. Desarrollo"
   ]
  },
  {
   "cell_type": "markdown",
   "metadata": {},
   "source": [
    "- Visualización de los datos"
   ]
  },
  {
   "cell_type": "markdown",
   "metadata": {},
   "source": [
    "Comenzamos visualizando los datos para revisar que columnas que no necesitamos y cuales renombrar."
   ]
  },
  {
   "cell_type": "code",
   "execution_count": 5,
   "metadata": {},
   "outputs": [
    {
     "data": {
      "text/html": [
       "<div>\n",
       "<style scoped>\n",
       "    .dataframe tbody tr th:only-of-type {\n",
       "        vertical-align: middle;\n",
       "    }\n",
       "\n",
       "    .dataframe tbody tr th {\n",
       "        vertical-align: top;\n",
       "    }\n",
       "\n",
       "    .dataframe thead th {\n",
       "        text-align: right;\n",
       "    }\n",
       "</style>\n",
       "<table border=\"1\" class=\"dataframe\">\n",
       "  <thead>\n",
       "    <tr style=\"text-align: right;\">\n",
       "      <th></th>\n",
       "      <th>Undergraduate Major</th>\n",
       "      <th>Starting Median Salary</th>\n",
       "      <th>Mid-Career Median Salary</th>\n",
       "      <th>Percent change from Starting to Mid-Career Salary</th>\n",
       "      <th>Mid-Career 10th Percentile Salary</th>\n",
       "      <th>Mid-Career 25th Percentile Salary</th>\n",
       "      <th>Mid-Career 75th Percentile Salary</th>\n",
       "      <th>Mid-Career 90th Percentile Salary</th>\n",
       "      <th>Best University</th>\n",
       "    </tr>\n",
       "  </thead>\n",
       "  <tbody>\n",
       "    <tr>\n",
       "      <td>0</td>\n",
       "      <td>Accounting</td>\n",
       "      <td>46000</td>\n",
       "      <td>77100</td>\n",
       "      <td>67.6</td>\n",
       "      <td>42200</td>\n",
       "      <td>56100</td>\n",
       "      <td>108000</td>\n",
       "      <td>152000</td>\n",
       "      <td>State University of New York (SUNY) at Oneonta</td>\n",
       "    </tr>\n",
       "    <tr>\n",
       "      <td>1</td>\n",
       "      <td>Aerospace Engineering</td>\n",
       "      <td>57700</td>\n",
       "      <td>101000</td>\n",
       "      <td>75.0</td>\n",
       "      <td>64300</td>\n",
       "      <td>82100</td>\n",
       "      <td>127000</td>\n",
       "      <td>161000</td>\n",
       "      <td>Embry-Riddle Aeronautical University (ERAU)</td>\n",
       "    </tr>\n",
       "    <tr>\n",
       "      <td>2</td>\n",
       "      <td>Agriculture</td>\n",
       "      <td>42600</td>\n",
       "      <td>71900</td>\n",
       "      <td>68.8</td>\n",
       "      <td>36300</td>\n",
       "      <td>52100</td>\n",
       "      <td>96300</td>\n",
       "      <td>150000</td>\n",
       "      <td>University of Hawaii</td>\n",
       "    </tr>\n",
       "    <tr>\n",
       "      <td>3</td>\n",
       "      <td>Anthropology</td>\n",
       "      <td>36800</td>\n",
       "      <td>61500</td>\n",
       "      <td>67.1</td>\n",
       "      <td>33800</td>\n",
       "      <td>45500</td>\n",
       "      <td>89300</td>\n",
       "      <td>138000</td>\n",
       "      <td>Dartmouth College</td>\n",
       "    </tr>\n",
       "    <tr>\n",
       "      <td>4</td>\n",
       "      <td>Architecture</td>\n",
       "      <td>41600</td>\n",
       "      <td>76800</td>\n",
       "      <td>84.6</td>\n",
       "      <td>50600</td>\n",
       "      <td>62200</td>\n",
       "      <td>97000</td>\n",
       "      <td>136000</td>\n",
       "      <td>University of Richmond</td>\n",
       "    </tr>\n",
       "  </tbody>\n",
       "</table>\n",
       "</div>"
      ],
      "text/plain": [
       "     Undergraduate Major  Starting Median Salary  Mid-Career Median Salary  \\\n",
       "0             Accounting                   46000                     77100   \n",
       "1  Aerospace Engineering                   57700                    101000   \n",
       "2            Agriculture                   42600                     71900   \n",
       "3           Anthropology                   36800                     61500   \n",
       "4           Architecture                   41600                     76800   \n",
       "\n",
       "   Percent change from Starting to Mid-Career Salary  \\\n",
       "0                                               67.6   \n",
       "1                                               75.0   \n",
       "2                                               68.8   \n",
       "3                                               67.1   \n",
       "4                                               84.6   \n",
       "\n",
       "   Mid-Career 10th Percentile Salary  Mid-Career 25th Percentile Salary  \\\n",
       "0                              42200                              56100   \n",
       "1                              64300                              82100   \n",
       "2                              36300                              52100   \n",
       "3                              33800                              45500   \n",
       "4                              50600                              62200   \n",
       "\n",
       "   Mid-Career 75th Percentile Salary  Mid-Career 90th Percentile Salary  \\\n",
       "0                             108000                             152000   \n",
       "1                             127000                             161000   \n",
       "2                              96300                             150000   \n",
       "3                              89300                             138000   \n",
       "4                              97000                             136000   \n",
       "\n",
       "                                  Best University  \n",
       "0  State University of New York (SUNY) at Oneonta  \n",
       "1     Embry-Riddle Aeronautical University (ERAU)  \n",
       "2                            University of Hawaii  \n",
       "3                               Dartmouth College  \n",
       "4                          University of Richmond  "
      ]
     },
     "execution_count": 5,
     "metadata": {},
     "output_type": "execute_result"
    }
   ],
   "source": [
    "datos.head(5)"
   ]
  },
  {
   "cell_type": "markdown",
   "metadata": {},
   "source": [
    "- Eliminamos columnas no deseadas"
   ]
  },
  {
   "cell_type": "markdown",
   "metadata": {},
   "source": [
    "Decidimos remover las columnas de percentile que aparecen aqui, debido a que es informacion que va de más en nuestra base de datos, y es lo mismo con la de percent, con la información que tenemos sobre los sueldos restantes, consideramos suficiente."
   ]
  },
  {
   "cell_type": "code",
   "execution_count": 6,
   "metadata": {},
   "outputs": [],
   "source": [
    "datos1=datos.drop(['Percent change from Starting to Mid-Career Salary',\n",
    "       'Mid-Career 10th Percentile Salary',\n",
    "       'Mid-Career 25th Percentile Salary',\n",
    "       'Mid-Career 75th Percentile Salary'],axis=1)"
   ]
  },
  {
   "cell_type": "markdown",
   "metadata": {},
   "source": [
    "- Renombre de columnas"
   ]
  },
  {
   "cell_type": "markdown",
   "metadata": {},
   "source": [
    "Renombramos las columnas al español para que sea mas sencillo para el aspirante visualizar bien la informacion y no confundirla.\n",
    "Y decidimos quedarnos con estas columnas para darle la información al usuario sobre la carrera, los salarios al inicio, a la mitad y al final, y a su vez su mejor opcion como universidad."
   ]
  },
  {
   "cell_type": "code",
   "execution_count": 7,
   "metadata": {},
   "outputs": [],
   "source": [
    "datos2=datos1.rename(columns={'Undergraduate Major': 'Carrera','Starting Median Salary':'Salario al inicio',\n",
    "       'Mid-Career Median Salary':'Salario a la mitad','Mid-Career 90th Percentile Salary':'Salario al graduarse',\n",
    "                              'Best University':'Mejor Universidad'})"
   ]
  },
  {
   "cell_type": "markdown",
   "metadata": {},
   "source": [
    "- Eliminación de los datos nulos"
   ]
  },
  {
   "cell_type": "markdown",
   "metadata": {},
   "source": [
    "Eliminamos los nulos en el caso de los salarios, para que así de información acertada."
   ]
  },
  {
   "cell_type": "code",
   "execution_count": 8,
   "metadata": {},
   "outputs": [],
   "source": [
    "datos3=datos2.dropna(subset=[\"Salario al inicio\",\"Salario a la mitad\",\n",
    "                             \"Salario al graduarse\"],axis=0)"
   ]
  },
  {
   "cell_type": "markdown",
   "metadata": {},
   "source": [
    "- Agregamos una nueva columna para mejor manejo de nuestra base, nos hemos basado en este video. Le dimos un campo a todas las carreras\n",
    "https://www.youtube.com/watch?v=Ym-GRH0Enp4"
   ]
  },
  {
   "cell_type": "code",
   "execution_count": 9,
   "metadata": {
    "scrolled": true
   },
   "outputs": [],
   "source": [
    "lol=['Administrativo','Ingenieria','Agropecuario','Humanidades','Humanidades','Artes','Ciencias','Juridico','Ingenieria' ,'Ciencias','Ingenieria' ,'Comunicación','Ingenieria' ,'Informatica','Ingenieria' ,'Juridico','Artes','Economico','Enseñanza' ,'Ingenieria' ,'Idiomas','Artes','Economico','Juridico','Ciencias','Ciencias','Artes','Administrativo','Humanidades','Turismo','Ingenieria' ,'Informatica','Humanidades','Juridico','Comunicación','Informatica','Economico','Ciencias','Ingenieria' ,'Artes','Salud','Salud','Humanidades','Salud','Ciencias','Juridico','Salud','Humanidades','Humanidades','Idiomas']\n",
    "datos4=datos3.assign(Campo= lambda x:lol)"
   ]
  },
  {
   "cell_type": "markdown",
   "metadata": {},
   "source": [
    "- Guardar la base de datos"
   ]
  },
  {
   "cell_type": "markdown",
   "metadata": {},
   "source": [
    "Guardaremos la base de datos en un nuevo archivo, para facilitar el manejo de la base de datos."
   ]
  },
  {
   "cell_type": "code",
   "execution_count": 10,
   "metadata": {
    "scrolled": true
   },
   "outputs": [],
   "source": [
    "Nuevo=\"carreras_nuevo.csv\"\n",
    "datos4.to_csv(Nuevo)"
   ]
  },
  {
   "cell_type": "markdown",
   "metadata": {},
   "source": [
    "- Agregamos una nueva variable con el archivo ya guardado "
   ]
  },
  {
   "cell_type": "code",
   "execution_count": 11,
   "metadata": {},
   "outputs": [],
   "source": [
    "carr= pd.read_csv(\"carreras_nuevo.csv\")"
   ]
  },
  {
   "cell_type": "markdown",
   "metadata": {},
   "source": [
    "## 2. Estadística de los datos"
   ]
  },
  {
   "cell_type": "markdown",
   "metadata": {},
   "source": [
    "**Con respecto a la pregunta de interés numero uno: \n",
    "  ¿Cuál de mis opciones de carreras a elegir me generara más ingresos salariales?**\n",
    "  \n",
    "  Utilizaremos las columnas Salario al inicio y Salario al graduarse. Esto con el fin de saber como se comporta la informacion de estas 2 columnas con respecto a sus carreras universitarias.\n",
    "  "
   ]
  },
  {
   "cell_type": "markdown",
   "metadata": {},
   "source": [
    "- El **mínimo** del Salario al **inicio**.\n",
    "\n",
    "Para saber cuál es el mínimo que un estudiante que acaba de ingresar a la universidad puede ganar, y así poder tomar este número en cuenta al momento de escoger la carrera universitaria."
   ]
  },
  {
   "cell_type": "code",
   "execution_count": 12,
   "metadata": {},
   "outputs": [
    {
     "data": {
      "text/plain": [
       "34000"
      ]
     },
     "execution_count": 12,
     "metadata": {},
     "output_type": "execute_result"
    }
   ],
   "source": [
    "carr['Salario al inicio'].min()"
   ]
  },
  {
   "cell_type": "markdown",
   "metadata": {},
   "source": [
    "- El **mínimo** del salario al **graduarse**.\n",
    "\n",
    "Sirve a su vez para que el usuario contemple sus opciones, ya que podría pensar que tiene un salario que sea competitivo y por desinformacion piense que es mucho."
   ]
  },
  {
   "cell_type": "code",
   "execution_count": 13,
   "metadata": {},
   "outputs": [
    {
     "data": {
      "text/plain": [
       "96400"
      ]
     },
     "execution_count": 13,
     "metadata": {},
     "output_type": "execute_result"
    }
   ],
   "source": [
    "carr['Salario al graduarse'].min()"
   ]
  },
  {
   "cell_type": "markdown",
   "metadata": {},
   "source": [
    "- El **máximo** del Salario al **inicio**.\n",
    "\n",
    "Se decidió utilizar el máximo sueldo cuando se ingresa a la universidad, para que también los aspirantes contemplen el sueldo a un inicio por si quieren comenzar a trabajar desde que entren a la universidad."
   ]
  },
  {
   "cell_type": "code",
   "execution_count": 14,
   "metadata": {},
   "outputs": [
    {
     "data": {
      "text/plain": [
       "74300"
      ]
     },
     "execution_count": 14,
     "metadata": {},
     "output_type": "execute_result"
    }
   ],
   "source": [
    "carr['Salario al inicio'].max()"
   ]
  },
  {
   "cell_type": "markdown",
   "metadata": {},
   "source": [
    "**Este número de arriba me muestra la gran diferencia que hay entre el mínimo y el máximo del salario al inicio**"
   ]
  },
  {
   "cell_type": "markdown",
   "metadata": {},
   "source": [
    "- El **máximo** del Salario al **graduarse**. \n",
    "\n",
    "Agregamos el máximo del salario al graduarse para que los aspirantes tengas más claras sus metas, por ejemplo si al ingresar a la universidad no hay mucha diferencia con el sueldo del final, o si lo consideran muy bajo, también tenerlo como opción."
   ]
  },
  {
   "cell_type": "code",
   "execution_count": 15,
   "metadata": {},
   "outputs": [
    {
     "data": {
      "text/plain": [
       "210000"
      ]
     },
     "execution_count": 15,
     "metadata": {},
     "output_type": "execute_result"
    }
   ],
   "source": [
    "carr['Salario al graduarse'].max()"
   ]
  },
  {
   "cell_type": "markdown",
   "metadata": {},
   "source": [
    "**El número de arriba es más del doble del mínimo de sueldo a graduarse**"
   ]
  },
  {
   "cell_type": "markdown",
   "metadata": {},
   "source": [
    "- El **promedio** del Salario al **inicio**.\n",
    "\n",
    "El promedio del salario que obtiene un recién ingresado , para considerar si su carrera tiene un salario, arriba o abajo del promedio, y tomarlo a consideración."
   ]
  },
  {
   "cell_type": "code",
   "execution_count": 16,
   "metadata": {},
   "outputs": [
    {
     "data": {
      "text/plain": [
       "44310.0"
      ]
     },
     "execution_count": 16,
     "metadata": {},
     "output_type": "execute_result"
    }
   ],
   "source": [
    "carr['Salario al inicio'].mean()"
   ]
  },
  {
   "cell_type": "markdown",
   "metadata": {},
   "source": [
    "**La mayoria de los salario al inicio oscilan entre este número**"
   ]
  },
  {
   "cell_type": "markdown",
   "metadata": {},
   "source": [
    "- El **promedio** del Salario al **graduarse**. \n",
    "\n",
    "A su vez el promedio del salario que obtiene un recién egresado , para considerar si su carrera tiene un salario, arriba o abajo del promedio."
   ]
  },
  {
   "cell_type": "code",
   "execution_count": 17,
   "metadata": {},
   "outputs": [
    {
     "data": {
      "text/plain": [
       "142766.0"
      ]
     },
     "execution_count": 17,
     "metadata": {},
     "output_type": "execute_result"
    }
   ],
   "source": [
    "carr['Salario al graduarse'].mean()"
   ]
  },
  {
   "cell_type": "markdown",
   "metadata": {},
   "source": [
    "**La mayoría de los salarios al graduarse oscilan entre este número**"
   ]
  },
  {
   "cell_type": "markdown",
   "metadata": {},
   "source": [
    "## Gráficas"
   ]
  },
  {
   "cell_type": "markdown",
   "metadata": {},
   "source": [
    "- Para analizar nuestros resultados, revisaremos la cantidad del salario a ganar al iniciar la carrera en gráficas"
   ]
  },
  {
   "cell_type": "code",
   "execution_count": 18,
   "metadata": {},
   "outputs": [
    {
     "data": {
      "text/plain": [
       "<matplotlib.axes._subplots.AxesSubplot at 0x17454e31c08>"
      ]
     },
     "execution_count": 18,
     "metadata": {},
     "output_type": "execute_result"
    }
   ],
   "source": [
    "carr['Salario al inicio'].plot.hist(carr,color='yellow')"
   ]
  },
  {
   "cell_type": "markdown",
   "metadata": {},
   "source": [
    "El menor salario al inicio de la carrera es de 34000, la mayor cantidad a ganar es de 74300 y el sueldo promedio es de 44310.\n",
    "\n",
    "Logramos ver que hay una gran diferencia entre estos datos, esto se puede deber a muchas cosas, tanto el campo laboral en el que se encuentra una carrera, como a su vez la universidad en la que se encuentra."
   ]
  },
  {
   "cell_type": "markdown",
   "metadata": {},
   "source": [
    "- Ahora analizaremos la cantidad del salario a ganar al terminar la carrera"
   ]
  },
  {
   "cell_type": "code",
   "execution_count": 19,
   "metadata": {},
   "outputs": [
    {
     "data": {
      "text/plain": [
       "<matplotlib.axes._subplots.AxesSubplot at 0x174552cd108>"
      ]
     },
     "execution_count": 19,
     "metadata": {},
     "output_type": "execute_result"
    },
    {
     "data": {
      "image/png": "[encoded data removed]",
      "text/plain": [
       "<Figure size 432x288 with 1 Axes>"
      ]
     },
     "metadata": {
      "needs_background": "light"
     },
     "output_type": "display_data"
    }
   ],
   "source": [
    "carr['Salario al graduarse'].plot.hist(carr,color='magenta')"
   ]
  },
  {
   "cell_type": "markdown",
   "metadata": {},
   "source": [
    "El mínimo del salario al graduarse es de 96400, mientras el máximo es de 210000 y el sueldo promedio es de 142766. Logramos ver que hay una gran diferencia entre estos datos, siendo el máximo del salario, mayor al doble del salario mínimo.\n",
    "\n",
    "Vemos que evidentemente hay diferencia entre el salario al inicio de la carrera y al graduarse. Ya es decisión del estudiante tomar a consideración estos datos para tener más claros sus objetivos de ingresos\n",
    "\n"
   ]
  },
  {
   "cell_type": "markdown",
   "metadata": {},
   "source": [
    "- Mostraremos una pequeña visualización de los datos, para tenerlos presentes al momento de graficar"
   ]
  },
  {
   "cell_type": "code",
   "execution_count": 20,
   "metadata": {},
   "outputs": [
    {
     "data": {
      "text/html": [
       "<div>\n",
       "<style scoped>\n",
       "    .dataframe tbody tr th:only-of-type {\n",
       "        vertical-align: middle;\n",
       "    }\n",
       "\n",
       "    .dataframe tbody tr th {\n",
       "        vertical-align: top;\n",
       "    }\n",
       "\n",
       "    .dataframe thead th {\n",
       "        text-align: right;\n",
       "    }\n",
       "</style>\n",
       "<table border=\"1\" class=\"dataframe\">\n",
       "  <thead>\n",
       "    <tr style=\"text-align: right;\">\n",
       "      <th></th>\n",
       "      <th>Unnamed: 0</th>\n",
       "      <th>Carrera</th>\n",
       "      <th>Salario al inicio</th>\n",
       "      <th>Salario a la mitad</th>\n",
       "      <th>Salario al graduarse</th>\n",
       "      <th>Mejor Universidad</th>\n",
       "      <th>Campo</th>\n",
       "    </tr>\n",
       "  </thead>\n",
       "  <tbody>\n",
       "    <tr>\n",
       "      <td>0</td>\n",
       "      <td>0</td>\n",
       "      <td>Accounting</td>\n",
       "      <td>46000</td>\n",
       "      <td>77100</td>\n",
       "      <td>152000</td>\n",
       "      <td>State University of New York (SUNY) at Oneonta</td>\n",
       "      <td>Administrativo</td>\n",
       "    </tr>\n",
       "    <tr>\n",
       "      <td>1</td>\n",
       "      <td>1</td>\n",
       "      <td>Aerospace Engineering</td>\n",
       "      <td>57700</td>\n",
       "      <td>101000</td>\n",
       "      <td>161000</td>\n",
       "      <td>Embry-Riddle Aeronautical University (ERAU)</td>\n",
       "      <td>Ingenieria</td>\n",
       "    </tr>\n",
       "    <tr>\n",
       "      <td>2</td>\n",
       "      <td>2</td>\n",
       "      <td>Agriculture</td>\n",
       "      <td>42600</td>\n",
       "      <td>71900</td>\n",
       "      <td>150000</td>\n",
       "      <td>University of Hawaii</td>\n",
       "      <td>Agropecuario</td>\n",
       "    </tr>\n",
       "    <tr>\n",
       "      <td>3</td>\n",
       "      <td>3</td>\n",
       "      <td>Anthropology</td>\n",
       "      <td>36800</td>\n",
       "      <td>61500</td>\n",
       "      <td>138000</td>\n",
       "      <td>Dartmouth College</td>\n",
       "      <td>Humanidades</td>\n",
       "    </tr>\n",
       "    <tr>\n",
       "      <td>4</td>\n",
       "      <td>4</td>\n",
       "      <td>Architecture</td>\n",
       "      <td>41600</td>\n",
       "      <td>76800</td>\n",
       "      <td>136000</td>\n",
       "      <td>University of Richmond</td>\n",
       "      <td>Humanidades</td>\n",
       "    </tr>\n",
       "  </tbody>\n",
       "</table>\n",
       "</div>"
      ],
      "text/plain": [
       "   Unnamed: 0                Carrera  Salario al inicio  Salario a la mitad  \\\n",
       "0           0             Accounting              46000               77100   \n",
       "1           1  Aerospace Engineering              57700              101000   \n",
       "2           2            Agriculture              42600               71900   \n",
       "3           3           Anthropology              36800               61500   \n",
       "4           4           Architecture              41600               76800   \n",
       "\n",
       "   Salario al graduarse                               Mejor Universidad  \\\n",
       "0                152000  State University of New York (SUNY) at Oneonta   \n",
       "1                161000     Embry-Riddle Aeronautical University (ERAU)   \n",
       "2                150000                            University of Hawaii   \n",
       "3                138000                               Dartmouth College   \n",
       "4                136000                          University of Richmond   \n",
       "\n",
       "            Campo  \n",
       "0  Administrativo  \n",
       "1      Ingenieria  \n",
       "2    Agropecuario  \n",
       "3     Humanidades  \n",
       "4     Humanidades  "
      ]
     },
     "execution_count": 20,
     "metadata": {},
     "output_type": "execute_result"
    }
   ],
   "source": [
    "carr.head(5)"
   ]
  },
  {
   "cell_type": "markdown",
   "metadata": {},
   "source": [
    "- Observaremos de que campo es cada carrera con una grafica de mathplot."
   ]
  },
  {
   "cell_type": "code",
   "execution_count": 21,
   "metadata": {},
   "outputs": [
    {
     "data": {
      "text/plain": [
       "<matplotlib.axes._subplots.AxesSubplot at 0x174553629c8>"
      ]
     },
     "execution_count": 21,
     "metadata": {},
     "output_type": "execute_result"
    },
    {
     "data": {
      "image/png": "[encoded data removed]",
      "text/plain": [
       "<Figure size 432x288 with 1 Axes>"
      ]
     },
     "metadata": {
      "needs_background": "light"
     },
     "output_type": "display_data"
    }
   ],
   "source": [
    "carr['Campo'].value_counts().head(15).plot.bar(color=['pink','blue','cyan','purple'])"
   ]
  },
  {
   "cell_type": "markdown",
   "metadata": {},
   "source": [
    "Logramos ver que el campo que mayor carreras universitarias tiene es el de ingeniería, y las que menos tienen son las de enseñanza, agropecuario y turismo que solo cuentan con una carrera registrada en su campo de nuestra base de datos."
   ]
  },
  {
   "cell_type": "markdown",
   "metadata": {},
   "source": [
    "- Boxplot sobre salarios al graduarse dependiendo del campo a elegir"
   ]
  },
  {
   "cell_type": "code",
   "execution_count": 53,
   "metadata": {},
   "outputs": [
    {
     "data": {
      "image/png": "[encoded data removed]",
      "text/plain": [
       "<Figure size 720x360 with 1 Axes>"
      ]
     },
     "metadata": {
      "needs_background": "light"
     },
     "output_type": "display_data"
    }
   ],
   "source": [
    "import seaborn as sns\n",
    "df = carr[carr.Campo.isin(carr.Campo.value_counts().head(7).index)]\n",
    "\n",
    "sns.catplot(\n",
    "    x='Campo',\n",
    "    y='Salario al graduarse',\n",
    "    data=df,\n",
    "    kind=\"box\",\n",
    "    aspect=2\n",
    ");"
   ]
  },
  {
   "cell_type": "markdown",
   "metadata": {},
   "source": [
    "Logramos ver que hay una gran diferencia entre los salarios al graduarse de cada campo, y visualizamos que el campo económico es el que más ingresos genera, y el que menos genera es el campo de salud. Si solo hubiéramos puesto la gráfica pasada, el aspirante habría creído que el campo de ingeniería, como tiene más cantidad de carreras, es el que más genera ingresos, cosa que no es cierta, pero si es superior al promedio de ingresos salariales al graduarse.\n",
    "\n",
    "Con esto dará pie a tener menor cantidad de opciones de carrera ya que el aspirante solo se enfocará en decidir una carrera del ramo elegido.\n",
    " "
   ]
  },
  {
   "cell_type": "markdown",
   "metadata": {},
   "source": [
    "- Grafica sobre el salario de las carreras"
   ]
  },
  {
   "cell_type": "code",
   "execution_count": 23,
   "metadata": {},
   "outputs": [
    {
     "data": {
      "text/plain": [
       "<matplotlib.axes._subplots.AxesSubplot at 0x19aaa1c4dc8>"
      ]
     },
     "execution_count": 23,
     "metadata": {},
     "output_type": "execute_result"
    },
    {
     "data": {
      "image/png": "[encoded data removed]",
      "text/plain": [
       "<Figure size 432x288 with 1 Axes>"
      ]
     },
     "metadata": {
      "needs_background": "light"
     },
     "output_type": "display_data"
    }
   ],
   "source": [
    "df=pd.DataFrame(carr)\n",
    "df.groupby('Carrera')['Salario al graduarse'].sum().head(20).plot(kind='barh',legend='Reverse')"
   ]
  },
  {
   "cell_type": "markdown",
   "metadata": {},
   "source": [
    "En esta grafica vemos que la carrera que tiene más ingresos salariales al graduarse es la carrera de economía, estando en el campo económico, el cual en la gráfica anterior de campos laborales es el más alto en cuestión del salario, así que de esta manera confirmamos que el campo más alto es el económico."
   ]
  },
  {
   "cell_type": "markdown",
   "metadata": {},
   "source": [
    "## Conclusiones"
   ]
  },
  {
   "cell_type": "markdown",
   "metadata": {},
   "source": [
    "Gracias al análisis antes realizado podemos observar las variaciones de los ingresos que podemos adquirir, al arrojarnos las mejores opciones podrá el usuario decidir la opción que más le guste al mostrarle los salarios que podrá ganar al inicio y al graduarse de la carrera, y a su vez el campo en el que se encuentra la carrera.\n",
    "Veamos si con las gráficas anteriores podemos ayudarnos a ir contestando nuestras preguntas de interés:\n",
    "- ¿Cuál de mis opciones de carreras a elegir me generara más ingresos salariales? En la última grafica que agregamos vemos que la carrera que más ingresos genera es economía, pero aun nos faltaría un método de agrupación de datos para que le otorguemos al aspirante información grafica sobre cada campo y que a partir del campo que más le interesa, le dé la información salarial más alta para decidir cual carrera de su campo elegir.\n",
    "- ¿En qué campo laboral puedo tener mejores ingresos? En la gráfica 4 de las boxplot, vemos que el campo laboral que más ingresos genera es el campo económico, superando por mucho a los otros campos que tenemos, de esta manera podemos contestar nuestra pregunta de interés.\n",
    "\n",
    "Finalmente vemos, que nos faltaría hacer un sistema de agrupación de datos en cuestiones de los campos y sus salarios para poder contestar finalmente nuestra pregunta de interés número uno. Para que así elija la opción que le otorgue más ingresos salariales dentro de su campo de interés\n"
   ]
  },
  {
   "cell_type": "markdown",
   "metadata": {},
   "source": [
    "## 3. Agrupacion de datos"
   ]
  },
  {
   "cell_type": "markdown",
   "metadata": {},
   "source": [
    "A continuación, agregaremos una serie de gráficas para poder contestar la siguiente pregunta de interés:\n",
    "\n",
    "- ¿Cuál de las opciones de carreras a elegir me generara más ingresos salariales?\n",
    "\n",
    "Guardaremos en diferentes variables la cantidad de carreras que son de algún campo laboral, para tener una visualización de las carreras que conforman el campo.\n",
    "\n"
   ]
  },
  {
   "cell_type": "code",
   "execution_count": 24,
   "metadata": {},
   "outputs": [],
   "source": [
    "human=carr[carr['Campo']=='Humanidades'] \n",
    "inge=carr[carr['Campo']=='Ingenieria'] \n",
    "cien=carr[carr['Campo']=='Ciencias'] \n",
    "juri=carr[carr['Campo']=='Juridico']\n",
    "art=carr[carr['Campo']=='Artes'] \n",
    "sal=carr[carr['Campo']=='Salud'] \n",
    "eco=carr[carr['Campo']=='Economico'] \n",
    "inf=carr[carr['Campo']=='Informatica']\n",
    "admi=carr[carr['Campo']=='Administrativo'] \n",
    "comu=carr[carr['Campo']=='Comunicación'] \n",
    "idiom=carr[carr['Campo']=='Idiomas']\n",
    "agro=carr[carr['Campo']=='Agropecuario'] \n",
    "turi=carr[carr['Campo']=='Turismo'] \n",
    "ense=carr[carr['Campo']=='Enseñanza']"
   ]
  },
  {
   "cell_type": "markdown",
   "metadata": {},
   "source": [
    "**Ingenierías**"
   ]
  },
  {
   "cell_type": "code",
   "execution_count": 58,
   "metadata": {},
   "outputs": [
    {
     "data": {
      "text/plain": [
       "<matplotlib.axes._subplots.AxesSubplot at 0x19aac174808>"
      ]
     },
     "execution_count": 58,
     "metadata": {},
     "output_type": "execute_result"
    },
    {
     "data": {
      "image/png": "[encoded data removed]",
      "text/plain": [
       "<Figure size 432x288 with 1 Axes>"
      ]
     },
     "metadata": {
      "needs_background": "light"
     },
     "output_type": "display_data"
    }
   ],
   "source": [
    "df=pd.DataFrame(inge)\n",
    "df.groupby('Carrera')['Salario al graduarse'].sum().head(20).plot(kind='barh',legend='Reverse',color=('c','b'))"
   ]
  },
  {
   "cell_type": "markdown",
   "metadata": {},
   "source": [
    "Vemos que la carrera con mayor ingreso salarial del campo de ingeniería es:  *Ingeniería Química*\n"
   ]
  },
  {
   "cell_type": "markdown",
   "metadata": {},
   "source": [
    "**Humanidades**\n"
   ]
  },
  {
   "cell_type": "code",
   "execution_count": 59,
   "metadata": {},
   "outputs": [
    {
     "data": {
      "text/plain": [
       "<matplotlib.axes._subplots.AxesSubplot at 0x19aac1e92c8>"
      ]
     },
     "execution_count": 59,
     "metadata": {},
     "output_type": "execute_result"
    },
    {
     "data": {
      "image/png": "[encoded data removed]",
      "text/plain": [
       "<Figure size 432x288 with 1 Axes>"
      ]
     },
     "metadata": {
      "needs_background": "light"
     },
     "output_type": "display_data"
    }
   ],
   "source": [
    "df=pd.DataFrame(human)\n",
    "df.groupby('Carrera')['Salario al graduarse'].sum().plot(kind='barh',legend='Reverse',color=('g','r'))"
   ]
  },
  {
   "cell_type": "markdown",
   "metadata": {},
   "source": [
    "Vemos que la carrera con mayor ingreso salarial del campo de humanidades es:  *Filosofía*"
   ]
  },
  {
   "cell_type": "markdown",
   "metadata": {},
   "source": [
    "**Ciencias**"
   ]
  },
  {
   "cell_type": "code",
   "execution_count": 60,
   "metadata": {},
   "outputs": [
    {
     "data": {
      "text/plain": [
       "<matplotlib.axes._subplots.AxesSubplot at 0x19aac2734c8>"
      ]
     },
     "execution_count": 60,
     "metadata": {},
     "output_type": "execute_result"
    },
    {
     "data": {
      "image/png": "[encoded data removed]",
      "text/plain": [
       "<Figure size 432x288 with 1 Axes>"
      ]
     },
     "metadata": {
      "needs_background": "light"
     },
     "output_type": "display_data"
    }
   ],
   "source": [
    "df=pd.DataFrame(cien)\n",
    "df.groupby('Carrera')['Salario al graduarse'].sum().plot(kind='barh',legend='Reverse',color=('m','c'))"
   ]
  },
  {
   "cell_type": "markdown",
   "metadata": {},
   "source": [
    "Vemos que la carrera con mayor ingreso salarial del campo de ciencias es:  *Matemáticas*"
   ]
  },
  {
   "cell_type": "markdown",
   "metadata": {},
   "source": [
    "**Jurídico**"
   ]
  },
  {
   "cell_type": "code",
   "execution_count": 61,
   "metadata": {},
   "outputs": [
    {
     "data": {
      "text/plain": [
       "<matplotlib.axes._subplots.AxesSubplot at 0x19aac26a748>"
      ]
     },
     "execution_count": 61,
     "metadata": {},
     "output_type": "execute_result"
    },
    {
     "data": {
      "image/png": "[encoded data removed]",
      "text/plain": [
       "<Figure size 432x288 with 1 Axes>"
      ]
     },
     "metadata": {
      "needs_background": "light"
     },
     "output_type": "display_data"
    }
   ],
   "source": [
    "df=pd.DataFrame(juri)\n",
    "df.groupby('Carrera')['Salario al graduarse'].sum().plot(kind='barh',legend='Reverse',color=('r','y'))"
   ]
  },
  {
   "cell_type": "markdown",
   "metadata": {},
   "source": [
    "Vemos que la carrera con mayor ingreso salarial del campo jurídico es:  *Ciencias Políticas*"
   ]
  },
  {
   "cell_type": "markdown",
   "metadata": {},
   "source": [
    "**Artes**"
   ]
  },
  {
   "cell_type": "code",
   "execution_count": 57,
   "metadata": {},
   "outputs": [
    {
     "data": {
      "text/plain": [
       "<matplotlib.axes._subplots.AxesSubplot at 0x19aac0f0f48>"
      ]
     },
     "execution_count": 57,
     "metadata": {},
     "output_type": "execute_result"
    },
    {
     "data": {
      "image/png": "[encoded data removed]",
      "text/plain": [
       "<Figure size 432x288 with 1 Axes>"
      ]
     },
     "metadata": {
      "needs_background": "light"
     },
     "output_type": "display_data"
    }
   ],
   "source": [
    "df=pd.DataFrame(art)\n",
    "df.groupby('Carrera')['Salario al graduarse'].sum().plot(kind='barh',legend='Reverse',color=('b','m'))"
   ]
  },
  {
   "cell_type": "markdown",
   "metadata": {},
   "source": [
    "Vemos que la carrera con mayor ingreso salarial del campo de artes es:  *Actuación*"
   ]
  },
  {
   "cell_type": "markdown",
   "metadata": {},
   "source": [
    "**Salud**"
   ]
  },
  {
   "cell_type": "code",
   "execution_count": 54,
   "metadata": {},
   "outputs": [
    {
     "data": {
      "text/plain": [
       "<matplotlib.axes._subplots.AxesSubplot at 0x19aac01ecc8>"
      ]
     },
     "execution_count": 54,
     "metadata": {},
     "output_type": "execute_result"
    },
    {
     "data": {
      "image/png": "[encoded data removed]",
      "text/plain": [
       "<Figure size 432x288 with 1 Axes>"
      ]
     },
     "metadata": {
      "needs_background": "light"
     },
     "output_type": "display_data"
    }
   ],
   "source": [
    "df=pd.DataFrame(sal)\n",
    "df.groupby('Carrera')['Salario al graduarse'].sum().plot(kind='barh',legend='Reverse',color='y')"
   ]
  },
  {
   "cell_type": "markdown",
   "metadata": {},
   "source": [
    "Vemos que la carrera con mayor ingreso salarial del campo de salud es: *Psicología*"
   ]
  },
  {
   "cell_type": "markdown",
   "metadata": {},
   "source": [
    "**Economía**"
   ]
  },
  {
   "cell_type": "code",
   "execution_count": 51,
   "metadata": {},
   "outputs": [
    {
     "data": {
      "text/plain": [
       "<matplotlib.axes._subplots.AxesSubplot at 0x19aabfa85c8>"
      ]
     },
     "execution_count": 51,
     "metadata": {},
     "output_type": "execute_result"
    },
    {
     "data": {
      "image/png": "[encoded data removed]",
      "text/plain": [
       "<Figure size 432x288 with 1 Axes>"
      ]
     },
     "metadata": {
      "needs_background": "light"
     },
     "output_type": "display_data"
    }
   ],
   "source": [
    "df=pd.DataFrame(eco)\n",
    "df.groupby('Carrera')['Salario al graduarse'].sum().plot(kind='barh',legend='Reverse',color='k')"
   ]
  },
  {
   "cell_type": "markdown",
   "metadata": {},
   "source": [
    "Vemos que la carrera con mayor ingreso salarial del campo de economía es: *Economía*\n"
   ]
  },
  {
   "cell_type": "markdown",
   "metadata": {},
   "source": [
    "**Informática**"
   ]
  },
  {
   "cell_type": "code",
   "execution_count": 49,
   "metadata": {},
   "outputs": [
    {
     "data": {
      "text/plain": [
       "<matplotlib.axes._subplots.AxesSubplot at 0x19aabec1e48>"
      ]
     },
     "execution_count": 49,
     "metadata": {},
     "output_type": "execute_result"
    },
    {
     "data": {
      "image/png": "[encoded data removed]",
      "text/plain": [
       "<Figure size 432x288 with 1 Axes>"
      ]
     },
     "metadata": {
      "needs_background": "light"
     },
     "output_type": "display_data"
    }
   ],
   "source": [
    "df=pd.DataFrame(inf)\n",
    "df.groupby('Carrera')['Salario al graduarse'].sum().plot(kind='barh',legend='Reverse',color='b')"
   ]
  },
  {
   "cell_type": "markdown",
   "metadata": {},
   "source": [
    "Vemos que la carrera con mayor ingreso salarial del campo de informática es: *Ciencias Computacionales*"
   ]
  },
  {
   "cell_type": "markdown",
   "metadata": {},
   "source": [
    "**Administrativo**"
   ]
  },
  {
   "cell_type": "code",
   "execution_count": 48,
   "metadata": {},
   "outputs": [
    {
     "data": {
      "text/plain": [
       "<matplotlib.axes._subplots.AxesSubplot at 0x19aabe50fc8>"
      ]
     },
     "execution_count": 48,
     "metadata": {},
     "output_type": "execute_result"
    },
    {
     "data": {
      "image/png": "[encoded data removed]",
      "text/plain": [
       "<Figure size 432x288 with 1 Axes>"
      ]
     },
     "metadata": {
      "needs_background": "light"
     },
     "output_type": "display_data"
    }
   ],
   "source": [
    "df=pd.DataFrame(admi)\n",
    "df.groupby('Carrera')['Salario al graduarse'].sum().plot(kind='barh',legend='Reverse',color='r')"
   ]
  },
  {
   "cell_type": "markdown",
   "metadata": {},
   "source": [
    "Vemos que la carrera con mayor ingreso salarial del campo administrativo es:  *Contabilidad*"
   ]
  },
  {
   "cell_type": "markdown",
   "metadata": {},
   "source": [
    "**Comunicación**"
   ]
  },
  {
   "cell_type": "code",
   "execution_count": 47,
   "metadata": {},
   "outputs": [
    {
     "data": {
      "text/plain": [
       "<matplotlib.axes._subplots.AxesSubplot at 0x19aabde6dc8>"
      ]
     },
     "execution_count": 47,
     "metadata": {},
     "output_type": "execute_result"
    },
    {
     "data": {
      "image/png": "[encoded data removed]",
      "text/plain": [
       "<Figure size 432x288 with 1 Axes>"
      ]
     },
     "metadata": {
      "needs_background": "light"
     },
     "output_type": "display_data"
    }
   ],
   "source": [
    "df=pd.DataFrame(comu)\n",
    "df.groupby('Carrera')['Salario al graduarse'].sum().plot(kind='barh',legend='Reverse',color='c')"
   ]
  },
  {
   "cell_type": "markdown",
   "metadata": {},
   "source": [
    "Vemos que la carrera con mayor ingreso salarial del campo de comunicación es:  *Periodista*"
   ]
  },
  {
   "cell_type": "markdown",
   "metadata": {},
   "source": [
    "**Idiomas**"
   ]
  },
  {
   "cell_type": "code",
   "execution_count": 46,
   "metadata": {},
   "outputs": [
    {
     "data": {
      "text/plain": [
       "<matplotlib.axes._subplots.AxesSubplot at 0x19aabd68b08>"
      ]
     },
     "execution_count": 46,
     "metadata": {},
     "output_type": "execute_result"
    },
    {
     "data": {
      "image/png": "[encoded data removed]",
      "text/plain": [
       "<Figure size 432x288 with 1 Axes>"
      ]
     },
     "metadata": {
      "needs_background": "light"
     },
     "output_type": "display_data"
    }
   ],
   "source": [
    "df=pd.DataFrame(idiom)\n",
    "df.groupby('Carrera')['Salario al graduarse'].sum().plot(kind='barh',legend='Reverse',color='m')"
   ]
  },
  {
   "cell_type": "markdown",
   "metadata": {},
   "source": [
    "Vemos que la carrera con mayor ingreso salarial del campo de idiomas es:  *Ingles*"
   ]
  },
  {
   "cell_type": "markdown",
   "metadata": {},
   "source": [
    "**Agropecuario**"
   ]
  },
  {
   "cell_type": "code",
   "execution_count": 45,
   "metadata": {},
   "outputs": [
    {
     "data": {
      "text/plain": [
       "<matplotlib.axes._subplots.AxesSubplot at 0x19aabd1d908>"
      ]
     },
     "execution_count": 45,
     "metadata": {},
     "output_type": "execute_result"
    },
    {
     "data": {
      "image/png": "[encoded data removed]",
      "text/plain": [
       "<Figure size 432x288 with 1 Axes>"
      ]
     },
     "metadata": {
      "needs_background": "light"
     },
     "output_type": "display_data"
    }
   ],
   "source": [
    "df=pd.DataFrame(agro)\n",
    "df.groupby('Carrera')['Salario al graduarse'].sum().plot(kind='barh',legend='Reverse',color='y')"
   ]
  },
  {
   "cell_type": "markdown",
   "metadata": {},
   "source": [
    "La carrera de *Agricultura* es la unica en su campo dentro de nuestra base de datos."
   ]
  },
  {
   "cell_type": "markdown",
   "metadata": {},
   "source": [
    "**Turismo**"
   ]
  },
  {
   "cell_type": "code",
   "execution_count": 44,
   "metadata": {},
   "outputs": [
    {
     "data": {
      "text/plain": [
       "<matplotlib.axes._subplots.AxesSubplot at 0x19aabcbd108>"
      ]
     },
     "execution_count": 44,
     "metadata": {},
     "output_type": "execute_result"
    },
    {
     "data": {
      "image/png": "[encoded data removed]",
      "text/plain": [
       "<Figure size 432x288 with 1 Axes>"
      ]
     },
     "metadata": {
      "needs_background": "light"
     },
     "output_type": "display_data"
    }
   ],
   "source": [
    "df=pd.DataFrame(turi)\n",
    "df.groupby('Carrera')['Salario al graduarse'].sum().plot(kind='barh',legend='Reverse',color='k')"
   ]
  },
  {
   "cell_type": "markdown",
   "metadata": {},
   "source": [
    "La carrera de *Hotelería y Turismo* es la unica en su campo dentro de nuestra base de datos."
   ]
  },
  {
   "cell_type": "markdown",
   "metadata": {},
   "source": [
    "**Enseñanza**"
   ]
  },
  {
   "cell_type": "code",
   "execution_count": 43,
   "metadata": {},
   "outputs": [
    {
     "data": {
      "text/plain": [
       "<matplotlib.axes._subplots.AxesSubplot at 0x19aabc617c8>"
      ]
     },
     "execution_count": 43,
     "metadata": {},
     "output_type": "execute_result"
    },
    {
     "data": {
      "image/png": "[encoded data removed]",
      "text/plain": [
       "<Figure size 432x288 with 1 Axes>"
      ]
     },
     "metadata": {
      "needs_background": "light"
     },
     "output_type": "display_data"
    }
   ],
   "source": [
    "df=pd.DataFrame(ense)\n",
    "df.groupby('Carrera')['Salario al graduarse'].sum().plot(kind='barh',legend='Reverse',color='g')"
   ]
  },
  {
   "cell_type": "markdown",
   "metadata": {},
   "source": [
    "La carrera de *Educación* es la unica en su campo dentro de nuestra base de datos."
   ]
  },
  {
   "cell_type": "markdown",
   "metadata": {},
   "source": [
    "Gracias a todas las gráficas anteriores logramos contestar nuestra pregunta de interés:\n",
    "\n",
    "- ¿Cuál de las opciones de carreras a elegir me generara más ingresos salariales?: Para cada uno de los campos, hay una carrera que cuenta con los ingresos salariales más altos, para apoyar esta pregunta tenemos todas las gráficas anteriores de esta seccion, que muestran el total de carreras con las que contamos por campo laboral.\n"
   ]
  },
  {
   "cell_type": "markdown",
   "metadata": {},
   "source": [
    "### Conclusión final"
   ]
  },
  {
   "cell_type": "markdown",
   "metadata": {},
   "source": [
    "Una vez recopilados todos estos datos, esperamos que el aspirante a Universidad sepa aprovechar esta herramienta para su beneficio.\n",
    "El salario laboral es una de las cosas principales por las que nos metemos a una carrera, evidentemente es importante tener gusto por ella, pero siempre tenemos que estar muy conscientes de las capacidades que tenemos y al ambiente laboral al que estaremos expuestos tanto al inicio como al graduarnos.\n",
    "\n",
    "Con todos estos datos ayudamos al aspirante a contestar las preguntas de interés y a su vez se pueden ir contestando muchas preguntas más que anteriormente no se habían planteado.\n",
    "\n",
    "Ya anteriormente habíamos realizado esta sección, por lo que solo lo tenemos guardado de la forma correcta, no tuvimos muchas complicaciones al realizarlo, estamos felices del resultado final.\n"
   ]
  }
 ],
 "metadata": {
  "kernelspec": {
   "display_name": "Python 3",
   "language": "python",
   "name": "python3"
  },
  "language_info": {
   "codemirror_mode": {
    "name": "ipython",
    "version": 3
   },
   "file_extension": ".py",
   "mimetype": "text/x-python",
   "name": "python",
   "nbconvert_exporter": "python",
   "pygments_lexer": "ipython3",
   "version": "3.7.4"
  }
 },
 "nbformat": 4,
 "nbformat_minor": 2
}
