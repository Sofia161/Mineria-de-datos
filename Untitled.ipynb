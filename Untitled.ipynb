{
 "cells": [
  {
   "cell_type": "code",
   "execution_count": 2,
   "metadata": {},
   "outputs": [
    {
     "name": "stdout",
     "output_type": "stream",
     "text": [
      "LA MONEDA\n",
      "La dinamica comienza dandole al jugador una moneda con valor de 2 pesos, dependiendo de tus probabilidades veremos si logras llegar a la meta que es 8 pesos, o si pierdes todo y llegas al valor de 0 pesos\n"
     ]
    }
   ],
   "source": [
    "#Programa 2\n",
    "print(\"LA MONEDA\")\n",
    "print(\"La dinamica comienza dandole al jugador una moneda con valor de 2 pesos, dependiendo de tus probabilidades veremos si logras llegar a la meta que es 8 pesos, o si pierdes todo y llegas al valor de 0 pesos\")\n"
   ]
  },
  {
   "cell_type": "code",
   "execution_count": 3,
   "metadata": {},
   "outputs": [
    {
     "name": "stdout",
     "output_type": "stream",
     "text": [
      "Te otorgaremos un dado con 6 caras, si te sale un numero par aumentas dos monedas y si te sale un numero impar te restaremos dos monedas\n",
      "Bonus: Teniendo 4 monedas te daremos oportunidad de tirar dos veces , si te salen dos numeros pares seguidos GANAS el juego\n"
     ]
    }
   ],
   "source": [
    "print(\"Te otorgaremos un dado con 6 caras, si te sale un numero par aumentas dos monedas y si te sale un numero impar te restaremos dos monedas\")\n",
    "print(\"Bonus: Teniendo 4 monedas te daremos oportunidad de tirar dos veces , si te salen dos numeros pares seguidos GANAS el juego\")\n"
   ]
  },
  {
   "cell_type": "code",
   "execution_count": 30,
   "metadata": {},
   "outputs": [
    {
     "name": "stdout",
     "output_type": "stream",
     "text": [
      "Comenzaras con 2 monedas\n",
      "Preciona una tecla para tirar del dado:j\n",
      "j\n",
      "El numero 4 es par por lo que te sumamos dos monedas\n",
      "Monedas totales: 4\n",
      "Preciona una tecla para tirar del dado:j\n",
      "j\n",
      "El numero 4 es par por lo que podras tirar de nuevo\n",
      "Preciona una tecla para tirar del dado:j\n",
      "j\n",
      "El numero 2 es par por lo que ganas 4 monedas\n",
      "Monedas totales 8 GANASTEEEE\n"
     ]
    }
   ],
   "source": [
    "import random\n",
    "dado = random.randint(1,6) #Funcion para generar un numero aleatorio\n",
    "x=2\n",
    "x1=0\n",
    "x2=0\n",
    "x3=0\n",
    "print(\"Comenzaras con\",x, \"monedas\")\n",
    "print(input(\"Preciona una tecla para tirar del dado:\"))\n",
    "      \n",
    "if dado%2 == 0:\n",
    "    print(\"El numero\",dado, \"es par por lo que te sumamos dos monedas\")\n",
    "    print(\"Monedas totales:\",x+2)\n",
    "    dado2 = random.randint(1,6)\n",
    "    print(input(\"Preciona una tecla para tirar del dado:\"))\n",
    "    x1=x+2\n",
    "    if dado2%2 == 0:\n",
    "        print(\"El numero\", dado2, \"es par por lo que podras tirar de nuevo\")\n",
    "        dado3 = random.randint(1,6)\n",
    "        print(input(\"Preciona una tecla para tirar del dado:\"))\n",
    "        if dado3%2 == 0:\n",
    "            print(\"El numero\",dado3, \"es par por lo que ganas 4 monedas\")\n",
    "            print(\"Monedas totales\",x1+4, \"GANASTEEEE\")\n",
    "            \n",
    "        else:\n",
    "            print(\"El numero\", dado3, \"es impar por lo que solo ganas 2 puntos\")\n",
    "            print(\"Monedas totales:\",x1+2)\n",
    "            x2=x1+2\n",
    "            dado4 = random.randint(1,6)\n",
    "            print(input(\"Preciona una tecla para tirar del dado:\"))\n",
    "            if dado4%2 == 0:\n",
    "                print(\"El numero\",dado4, \"es par por lo que ganas 2 monedas\")\n",
    "                print(\"Monedas totales\",x2+2, \"GANASTEEEE\")  \n",
    "            else:\n",
    "                print(\"El numero\", dado4, \"es impar por lo que pierdes 2 puntos\")\n",
    "                print(\"Monedas totales:\",x2-2)\n",
    "    else:\n",
    "        print(\"El numero\", dado2, \"es impar por lo que pierdes 4 monedas\")\n",
    "        print(\"Monedas totales:\",x1-4, \"PERDISTE EL JUEGO\")\n",
    "        \n",
    "else:\n",
    "    print(\"El numero\",dado, \" es impar por lo que te restamos dos monedas\")\n",
    "    print(\"Monedas totales:\",x-2, \"PERDISTE EL JUEGO\")\n",
    "    "
   ]
  },
  {
   "cell_type": "code",
   "execution_count": null,
   "metadata": {},
   "outputs": [],
   "source": []
  },
  {
   "cell_type": "code",
   "execution_count": null,
   "metadata": {},
   "outputs": [],
   "source": []
  }
 ],
 "metadata": {
  "kernelspec": {
   "display_name": "Python 3",
   "language": "python",
   "name": "python3"
  },
  "language_info": {
   "codemirror_mode": {
    "name": "ipython",
    "version": 3
   },
   "file_extension": ".py",
   "mimetype": "text/x-python",
   "name": "python",
   "nbconvert_exporter": "python",
   "pygments_lexer": "ipython3",
   "version": "3.7.4"
  }
 },
 "nbformat": 4,
 "nbformat_minor": 2
}
