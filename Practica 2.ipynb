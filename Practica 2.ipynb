{
 "cells": [
  {
   "cell_type": "markdown",
   "metadata": {},
   "source": [
    "# Practica 2 \n",
    "## Mineria de datos\n",
    "\n",
    "\n",
    "Base de datos de los vinos\n",
    "- Comenzaremos con lo principal que seria importar la libreria pandas que seria para mandar a llamar el archivo csv con el nombre vino150k. El cual nos dara toda la informacion de los vinos que necesitamos.\n",
    "\n",
    "- A su vez utilizo la funcion shape para saber con cuantas filas y columnas cuenta mi base de datos."
   ]
  },
  {
   "cell_type": "code",
   "execution_count": 77,
   "metadata": {},
   "outputs": [
    {
     "data": {
      "text/plain": [
       "(150930, 11)"
      ]
     },
     "execution_count": 77,
     "metadata": {},
     "output_type": "execute_result"
    }
   ],
   "source": [
    "import pandas as pd\n",
    "\n",
    "vino = pd.read_csv(\"vino150k.csv\")\n",
    "vino.shape\n"
   ]
  },
  {
   "cell_type": "markdown",
   "metadata": {},
   "source": [
    "Como informacion basica considero importante saber el tipo de dato de cada columna, para saber con cuales voy a decidir trabajar."
   ]
  },
  {
   "cell_type": "code",
   "execution_count": 78,
   "metadata": {},
   "outputs": [
    {
     "data": {
      "text/plain": [
       "Unnamed: 0       int64\n",
       "country         object\n",
       "description     object\n",
       "designation     object\n",
       "points           int64\n",
       "price          float64\n",
       "province        object\n",
       "region_1        object\n",
       "region_2        object\n",
       "variety         object\n",
       "winery          object\n",
       "dtype: object"
      ]
     },
     "execution_count": 78,
     "metadata": {},
     "output_type": "execute_result"
    }
   ],
   "source": [
    "vino.dtypes"
   ]
  },
  {
   "cell_type": "markdown",
   "metadata": {},
   "source": [
    "Ahora con la funcion columns sabre cual es el nombre que tiene cada una de las columnas, para asi, eliminar las que no quiera utilizar y renombrar las que si uiera usar."
   ]
  },
  {
   "cell_type": "code",
   "execution_count": 79,
   "metadata": {},
   "outputs": [
    {
     "data": {
      "text/plain": [
       "Index(['Unnamed: 0', 'country', 'description', 'designation', 'points',\n",
       "       'price', 'province', 'region_1', 'region_2', 'variety', 'winery'],\n",
       "      dtype='object')"
      ]
     },
     "execution_count": 79,
     "metadata": {},
     "output_type": "execute_result"
    }
   ],
   "source": [
    "vino.columns"
   ]
  },
  {
   "cell_type": "markdown",
   "metadata": {},
   "source": [
    "Eliminare las columnas que no considere importantes o relevantes para graficar los datos, en este caso quitare las columnas description,designation,region_2(ya que tengo la region uno y tiene varios espacios vacios),variety y winery.\n",
    "\n",
    "\n",
    "Cambiare el combre de las columnas restantes al español, para que sea mas sencillo identificar las columnas.\n",
    "\n",
    "Elimine los renglones que tenian valores nulos en puntaje y precio."
   ]
  },
  {
   "cell_type": "code",
   "execution_count": 80,
   "metadata": {},
   "outputs": [
    {
     "data": {
      "text/html": [
       "<div>\n",
       "<style scoped>\n",
       "    .dataframe tbody tr th:only-of-type {\n",
       "        vertical-align: middle;\n",
       "    }\n",
       "\n",
       "    .dataframe tbody tr th {\n",
       "        vertical-align: top;\n",
       "    }\n",
       "\n",
       "    .dataframe thead th {\n",
       "        text-align: right;\n",
       "    }\n",
       "</style>\n",
       "<table border=\"1\" class=\"dataframe\">\n",
       "  <thead>\n",
       "    <tr style=\"text-align: right;\">\n",
       "      <th></th>\n",
       "      <th>Id</th>\n",
       "      <th>Pais</th>\n",
       "      <th>Puntaje</th>\n",
       "      <th>Precio</th>\n",
       "      <th>Provincia</th>\n",
       "      <th>Region</th>\n",
       "    </tr>\n",
       "  </thead>\n",
       "  <tbody>\n",
       "    <tr>\n",
       "      <td>0</td>\n",
       "      <td>0</td>\n",
       "      <td>US</td>\n",
       "      <td>96</td>\n",
       "      <td>235.0</td>\n",
       "      <td>California</td>\n",
       "      <td>Napa Valley</td>\n",
       "    </tr>\n",
       "    <tr>\n",
       "      <td>1</td>\n",
       "      <td>1</td>\n",
       "      <td>Spain</td>\n",
       "      <td>96</td>\n",
       "      <td>110.0</td>\n",
       "      <td>Northern Spain</td>\n",
       "      <td>Toro</td>\n",
       "    </tr>\n",
       "    <tr>\n",
       "      <td>2</td>\n",
       "      <td>2</td>\n",
       "      <td>US</td>\n",
       "      <td>96</td>\n",
       "      <td>90.0</td>\n",
       "      <td>California</td>\n",
       "      <td>Knights Valley</td>\n",
       "    </tr>\n",
       "    <tr>\n",
       "      <td>3</td>\n",
       "      <td>3</td>\n",
       "      <td>US</td>\n",
       "      <td>96</td>\n",
       "      <td>65.0</td>\n",
       "      <td>Oregon</td>\n",
       "      <td>Willamette Valley</td>\n",
       "    </tr>\n",
       "    <tr>\n",
       "      <td>4</td>\n",
       "      <td>4</td>\n",
       "      <td>France</td>\n",
       "      <td>95</td>\n",
       "      <td>66.0</td>\n",
       "      <td>Provence</td>\n",
       "      <td>Bandol</td>\n",
       "    </tr>\n",
       "    <tr>\n",
       "      <td>5</td>\n",
       "      <td>5</td>\n",
       "      <td>Spain</td>\n",
       "      <td>95</td>\n",
       "      <td>73.0</td>\n",
       "      <td>Northern Spain</td>\n",
       "      <td>Toro</td>\n",
       "    </tr>\n",
       "    <tr>\n",
       "      <td>6</td>\n",
       "      <td>6</td>\n",
       "      <td>Spain</td>\n",
       "      <td>95</td>\n",
       "      <td>65.0</td>\n",
       "      <td>Northern Spain</td>\n",
       "      <td>Toro</td>\n",
       "    </tr>\n",
       "    <tr>\n",
       "      <td>7</td>\n",
       "      <td>7</td>\n",
       "      <td>Spain</td>\n",
       "      <td>95</td>\n",
       "      <td>110.0</td>\n",
       "      <td>Northern Spain</td>\n",
       "      <td>Toro</td>\n",
       "    </tr>\n",
       "    <tr>\n",
       "      <td>8</td>\n",
       "      <td>8</td>\n",
       "      <td>US</td>\n",
       "      <td>95</td>\n",
       "      <td>65.0</td>\n",
       "      <td>Oregon</td>\n",
       "      <td>Chehalem Mountains</td>\n",
       "    </tr>\n",
       "    <tr>\n",
       "      <td>9</td>\n",
       "      <td>9</td>\n",
       "      <td>US</td>\n",
       "      <td>95</td>\n",
       "      <td>60.0</td>\n",
       "      <td>California</td>\n",
       "      <td>Sonoma Coast</td>\n",
       "    </tr>\n",
       "    <tr>\n",
       "      <td>10</td>\n",
       "      <td>10</td>\n",
       "      <td>Italy</td>\n",
       "      <td>95</td>\n",
       "      <td>80.0</td>\n",
       "      <td>Northeastern Italy</td>\n",
       "      <td>Collio</td>\n",
       "    </tr>\n",
       "    <tr>\n",
       "      <td>11</td>\n",
       "      <td>11</td>\n",
       "      <td>US</td>\n",
       "      <td>95</td>\n",
       "      <td>48.0</td>\n",
       "      <td>Oregon</td>\n",
       "      <td>Ribbon Ridge</td>\n",
       "    </tr>\n",
       "    <tr>\n",
       "      <td>12</td>\n",
       "      <td>12</td>\n",
       "      <td>US</td>\n",
       "      <td>95</td>\n",
       "      <td>48.0</td>\n",
       "      <td>Oregon</td>\n",
       "      <td>Dundee Hills</td>\n",
       "    </tr>\n",
       "    <tr>\n",
       "      <td>13</td>\n",
       "      <td>13</td>\n",
       "      <td>France</td>\n",
       "      <td>95</td>\n",
       "      <td>90.0</td>\n",
       "      <td>Southwest France</td>\n",
       "      <td>Madiran</td>\n",
       "    </tr>\n",
       "    <tr>\n",
       "      <td>14</td>\n",
       "      <td>14</td>\n",
       "      <td>US</td>\n",
       "      <td>95</td>\n",
       "      <td>185.0</td>\n",
       "      <td>Oregon</td>\n",
       "      <td>Dundee Hills</td>\n",
       "    </tr>\n",
       "    <tr>\n",
       "      <td>15</td>\n",
       "      <td>15</td>\n",
       "      <td>US</td>\n",
       "      <td>95</td>\n",
       "      <td>90.0</td>\n",
       "      <td>Oregon</td>\n",
       "      <td>Willamette Valley</td>\n",
       "    </tr>\n",
       "    <tr>\n",
       "      <td>16</td>\n",
       "      <td>16</td>\n",
       "      <td>US</td>\n",
       "      <td>95</td>\n",
       "      <td>325.0</td>\n",
       "      <td>California</td>\n",
       "      <td>Diamond Mountain District</td>\n",
       "    </tr>\n",
       "    <tr>\n",
       "      <td>17</td>\n",
       "      <td>17</td>\n",
       "      <td>Spain</td>\n",
       "      <td>95</td>\n",
       "      <td>80.0</td>\n",
       "      <td>Northern Spain</td>\n",
       "      <td>Ribera del Duero</td>\n",
       "    </tr>\n",
       "    <tr>\n",
       "      <td>18</td>\n",
       "      <td>18</td>\n",
       "      <td>France</td>\n",
       "      <td>95</td>\n",
       "      <td>290.0</td>\n",
       "      <td>Southwest France</td>\n",
       "      <td>Cahors</td>\n",
       "    </tr>\n",
       "    <tr>\n",
       "      <td>19</td>\n",
       "      <td>19</td>\n",
       "      <td>US</td>\n",
       "      <td>95</td>\n",
       "      <td>75.0</td>\n",
       "      <td>California</td>\n",
       "      <td>Sonoma Coast</td>\n",
       "    </tr>\n",
       "  </tbody>\n",
       "</table>\n",
       "</div>"
      ],
      "text/plain": [
       "    Id    Pais  Puntaje  Precio           Provincia                     Region\n",
       "0    0      US       96   235.0          California                Napa Valley\n",
       "1    1   Spain       96   110.0      Northern Spain                       Toro\n",
       "2    2      US       96    90.0          California             Knights Valley\n",
       "3    3      US       96    65.0              Oregon          Willamette Valley\n",
       "4    4  France       95    66.0            Provence                     Bandol\n",
       "5    5   Spain       95    73.0      Northern Spain                       Toro\n",
       "6    6   Spain       95    65.0      Northern Spain                       Toro\n",
       "7    7   Spain       95   110.0      Northern Spain                       Toro\n",
       "8    8      US       95    65.0              Oregon         Chehalem Mountains\n",
       "9    9      US       95    60.0          California               Sonoma Coast\n",
       "10  10   Italy       95    80.0  Northeastern Italy                     Collio\n",
       "11  11      US       95    48.0              Oregon               Ribbon Ridge\n",
       "12  12      US       95    48.0              Oregon               Dundee Hills\n",
       "13  13  France       95    90.0    Southwest France                    Madiran\n",
       "14  14      US       95   185.0              Oregon               Dundee Hills\n",
       "15  15      US       95    90.0              Oregon          Willamette Valley\n",
       "16  16      US       95   325.0          California  Diamond Mountain District\n",
       "17  17   Spain       95    80.0      Northern Spain           Ribera del Duero\n",
       "18  18  France       95   290.0    Southwest France                     Cahors\n",
       "19  19      US       95    75.0          California               Sonoma Coast"
      ]
     },
     "execution_count": 80,
     "metadata": {},
     "output_type": "execute_result"
    }
   ],
   "source": [
    "vino1=vino.drop([ 'description', 'designation', 'region_2', 'variety', 'winery'],axis=1)\n",
    "vino2=vino1.rename(columns={'Unnamed: 0':'Id', 'country':'Pais', 'points':'Puntaje','price':'Precio', 'province':'Provincia', 'region_1':'Region'})\n",
    "vino3=vino2.dropna(subset=['Puntaje','Precio'],axis=0)\n",
    "vino3.head(20)"
   ]
  },
  {
   "cell_type": "markdown",
   "metadata": {},
   "source": [
    "## Descripcion estadisitica basica"
   ]
  },
  {
   "cell_type": "markdown",
   "metadata": {},
   "source": [
    "- Hare las estadisticas con respecto al puntaje y al precio, ya que son mis datos numericos."
   ]
  },
  {
   "cell_type": "markdown",
   "metadata": {},
   "source": [
    "Utilizare el promedio de la columna puntaje para apreciar donde se concentran mejor los datos."
   ]
  },
  {
   "cell_type": "code",
   "execution_count": 201,
   "metadata": {},
   "outputs": [
    {
     "data": {
      "text/plain": [
       "87.7879185339017"
      ]
     },
     "execution_count": 201,
     "metadata": {},
     "output_type": "execute_result"
    }
   ],
   "source": [
    "#Promedio del puntaje\n",
    "vino3['Puntaje'].mean()"
   ]
  },
  {
   "cell_type": "markdown",
   "metadata": {},
   "source": [
    "Utilizare el promedio de la columna precio para apreciar donde se concentran mejor los datos."
   ]
  },
  {
   "cell_type": "code",
   "execution_count": 202,
   "metadata": {},
   "outputs": [
    {
     "data": {
      "text/plain": [
       "33.13148249353299"
      ]
     },
     "execution_count": 202,
     "metadata": {},
     "output_type": "execute_result"
    }
   ],
   "source": [
    "#Promedio de los precios\n",
    "vino3['Precio'].mean()"
   ]
  },
  {
   "cell_type": "markdown",
   "metadata": {},
   "source": [
    "El minimo del puntaje para ver en mi grafica."
   ]
  },
  {
   "cell_type": "code",
   "execution_count": 203,
   "metadata": {},
   "outputs": [
    {
     "data": {
      "text/plain": [
       "80"
      ]
     },
     "execution_count": 203,
     "metadata": {},
     "output_type": "execute_result"
    }
   ],
   "source": [
    "#El minimo del puntaje\n",
    "vino3['Puntaje'].min()"
   ]
  },
  {
   "cell_type": "markdown",
   "metadata": {},
   "source": [
    "El maximo del puntaje para ver en mi grafica."
   ]
  },
  {
   "cell_type": "code",
   "execution_count": 204,
   "metadata": {},
   "outputs": [
    {
     "data": {
      "text/plain": [
       "100"
      ]
     },
     "execution_count": 204,
     "metadata": {},
     "output_type": "execute_result"
    }
   ],
   "source": [
    "#El maximo del puntaje\n",
    "vino3['Puntaje'].max()"
   ]
  },
  {
   "cell_type": "markdown",
   "metadata": {},
   "source": [
    "El minimo del precio para ver en mi grafica."
   ]
  },
  {
   "cell_type": "code",
   "execution_count": 205,
   "metadata": {},
   "outputs": [
    {
     "data": {
      "text/plain": [
       "4.0"
      ]
     },
     "execution_count": 205,
     "metadata": {},
     "output_type": "execute_result"
    }
   ],
   "source": [
    "#El minimo de los precios\n",
    "vino3['Precio'].min()"
   ]
  },
  {
   "cell_type": "markdown",
   "metadata": {},
   "source": [
    "El maximo del precio para ver en mi grafica."
   ]
  },
  {
   "cell_type": "code",
   "execution_count": 206,
   "metadata": {},
   "outputs": [
    {
     "data": {
      "text/plain": [
       "2300.0"
      ]
     },
     "execution_count": 206,
     "metadata": {},
     "output_type": "execute_result"
    }
   ],
   "source": [
    "#El maximo de los precios\n",
    "vino3['Precio'].max()"
   ]
  },
  {
   "cell_type": "markdown",
   "metadata": {},
   "source": [
    "Mediana del puntaje para saber donde esta la media de los datos."
   ]
  },
  {
   "cell_type": "code",
   "execution_count": 87,
   "metadata": {},
   "outputs": [
    {
     "data": {
      "text/plain": [
       "88.0"
      ]
     },
     "execution_count": 87,
     "metadata": {},
     "output_type": "execute_result"
    }
   ],
   "source": [
    "#Mediana del puntaje\n",
    "vino3['Puntaje'].median()"
   ]
  },
  {
   "cell_type": "markdown",
   "metadata": {},
   "source": [
    "Mediana del precio para saber donde esta la media de los datos."
   ]
  },
  {
   "cell_type": "code",
   "execution_count": 88,
   "metadata": {},
   "outputs": [
    {
     "data": {
      "text/plain": [
       "24.0"
      ]
     },
     "execution_count": 88,
     "metadata": {},
     "output_type": "execute_result"
    }
   ],
   "source": [
    "#Mediana de los precios\n",
    "vino3['Precio'].median()"
   ]
  },
  {
   "cell_type": "markdown",
   "metadata": {},
   "source": [
    "La varianza de los precios sirve para ver la diferencia que hay entre los datos, eso lo vemos tambien grafias al maximo, minimo y mediana."
   ]
  },
  {
   "cell_type": "code",
   "execution_count": 89,
   "metadata": {},
   "outputs": [
    {
     "data": {
      "text/plain": [
       "1319.326635745001"
      ]
     },
     "execution_count": 89,
     "metadata": {},
     "output_type": "execute_result"
    }
   ],
   "source": [
    "#Varianza de los precios\n",
    "vino3['Precio'].var()"
   ]
  },
  {
   "cell_type": "markdown",
   "metadata": {},
   "source": [
    "## Graficas con matplotlib"
   ]
  },
  {
   "cell_type": "code",
   "execution_count": 91,
   "metadata": {},
   "outputs": [
    {
     "data": {
      "text/plain": [
       "<matplotlib.axes._subplots.AxesSubplot at 0x2277415e588>"
      ]
     },
     "execution_count": 91,
     "metadata": {},
     "output_type": "execute_result"
    },
    {
     "data": {
      "image/png": "[encoded data removed]",
      "text/plain": [
       "<Figure size 1080x504 with 1 Axes>"
      ]
     },
     "metadata": {
      "needs_background": "light"
     },
     "output_type": "display_data"
    }
   ],
   "source": [
    "vino3['Puntaje'].value_counts().sort_index().plot.bar()"
   ]
  },
  {
   "cell_type": "markdown",
   "metadata": {},
   "source": [
    "- Logramos aprecias que la mayor concentracion de los datos en el caso de puntaje esta entre el 87 y el 88, y anteriormente vimos que el promedio del puntaje es 87.88 y la mediana del puntaje es 88. "
   ]
  },
  {
   "cell_type": "code",
   "execution_count": 92,
   "metadata": {},
   "outputs": [
    {
     "data": {
      "text/plain": [
       "<matplotlib.axes._subplots.AxesSubplot at 0x2277415e3c8>"
      ]
     },
     "execution_count": 92,
     "metadata": {},
     "output_type": "execute_result"
    },
    {
     "data": {
      "image/png": "[encoded data removed]",
      "text/plain": [
       "<Figure size 1080x504 with 1 Axes>"
      ]
     },
     "metadata": {
      "needs_background": "light"
     },
     "output_type": "display_data"
    }
   ],
   "source": [
    "vino3[vino3['Precio'] < 155]['Precio'].plot.hist()"
   ]
  },
  {
   "cell_type": "markdown",
   "metadata": {},
   "source": [
    "- Comenzamos haciendo que la grafica sea para menos de 155 muestras, para apreciarla de una mejor manera. Claramente vemos que la mayoria de los precios estan concentrados entre el 20 y 30, a su vez nos ayuda mucho saber que la mediana de los precios es 24 y su promedio es 33.13 "
   ]
  },
  {
   "cell_type": "markdown",
   "metadata": {},
   "source": [
    "## Graficas con seaborn"
   ]
  },
  {
   "cell_type": "code",
   "execution_count": 93,
   "metadata": {},
   "outputs": [
    {
     "data": {
      "text/plain": [
       "<matplotlib.axes._subplots.AxesSubplot at 0x227797db888>"
      ]
     },
     "execution_count": 93,
     "metadata": {},
     "output_type": "execute_result"
    },
    {
     "data": {
      "image/png": "[encoded data removed]",
      "text/plain": [
       "<Figure size 1080x504 with 1 Axes>"
      ]
     },
     "metadata": {
      "needs_background": "light"
     },
     "output_type": "display_data"
    }
   ],
   "source": [
    "#Importamos \n",
    "import seaborn as sns\n",
    "sns.kdeplot(vino3.query('Precio < 15000').Precio)"
   ]
  },
  {
   "cell_type": "markdown",
   "metadata": {},
   "source": [
    "- En este caso le puse un tamaño a la grafica de 15000 para apreciar el minimo y el maximo que se tiene de los precios. Como vemos el minimo se aproxima al 0 y el maximo arrebasa los 2000."
   ]
  },
  {
   "cell_type": "code",
   "execution_count": 94,
   "metadata": {},
   "outputs": [
    {
     "data": {
      "text/plain": [
       "<matplotlib.axes._subplots.AxesSubplot at 0x2277446e9c8>"
      ]
     },
     "execution_count": 94,
     "metadata": {},
     "output_type": "execute_result"
    },
    {
     "data": {
      "image/png": "[encoded data removed]",
      "text/plain": [
       "<Figure size 1080x504 with 1 Axes>"
      ]
     },
     "metadata": {
      "needs_background": "light"
     },
     "output_type": "display_data"
    }
   ],
   "source": [
    "df= vino3[vino3.Provincia.isin(vino3.Provincia.value_counts().head(3).index)]\n",
    "\n",
    "sns.boxplot(\n",
    "    x='Provincia',\n",
    "    y='Puntaje',\n",
    "    data = df\n",
    ")"
   ]
  },
  {
   "cell_type": "markdown",
   "metadata": {},
   "source": [
    "- Se hizo una grafica en la que vemos los datos de california, washington y de tuscany, a simple vista logramos aprecias que el minimo en las 3 provincias oscila entre el 80 y el maximo en el 100. Y que en el caso de washington y tuscany, la mediana esta en el 88 aproximadamente."
   ]
  },
  {
   "cell_type": "markdown",
   "metadata": {},
   "source": [
    "## Tareas opcionales"
   ]
  },
  {
   "cell_type": "markdown",
   "metadata": {},
   "source": [
    "Relacionar al menos 4 graficas con los diferentes tipos de datos con los que se especializa para trabajar."
   ]
  },
  {
   "cell_type": "markdown",
   "metadata": {},
   "source": [
    "- Ordinales y Nominales: Variables cualitativas, en su mayoria se pueden utilizar graficas de barras y tambien graficas de pastel.\n",
    "\n",
    "- Intervalos y Razon: Variables cuantitativas , representa la escala de los valores, se utilizan las marcas de clase para graficar los puntos, que al ser conectados nos dara un poligono."
   ]
  },
  {
   "cell_type": "markdown",
   "metadata": {},
   "source": [
    "Realizar una comparacion entre scatter plot y hexplot.\n",
    "\n",
    "- Un scatter plot simple hace un mapa de cada variable de interes en un espacio bi dimensional, las graficas de scatter plot trabajan mejor con datasets pequeños. A las scatter plot no les va bien cuando los puntos estan en el mismo lugar que otro dentro del mapa. Las graficas de scatter plot trabajan mejor con datasets pequeños, para evitar lo que se conoce como overplotting.\n",
    "\n",
    "- Un diagrama hexplot agrega puntos en el espacio en hexágonos, y luego colorea esos hexágonos en función de los valores dentro de ellos. Se hace un cluster, por lo que se aprecian mas los valores a comparacion del scatter plot.Para evitar el overplotingse quitan los datos que son muy similares."
   ]
  },
  {
   "cell_type": "markdown",
   "metadata": {},
   "source": [
    "# Ejercicio agregado"
   ]
  },
  {
   "cell_type": "markdown",
   "metadata": {},
   "source": [
    "Seguiremos utilizando la base de datos de los vinos, para comenzar con la practica tenemos que instalar una nueva herramienta llamada nltk."
   ]
  },
  {
   "cell_type": "code",
   "execution_count": 95,
   "metadata": {},
   "outputs": [
    {
     "name": "stdout",
     "output_type": "stream",
     "text": [
      "Collecting package metadata (current_repodata.json): ...working... done\n",
      "Solving environment: ...working... done\n",
      "\n",
      "# All requested packages already installed.\n",
      "\n"
     ]
    }
   ],
   "source": [
    "import sys\n",
    "!conda install --yes --prefix {sys.prefix} nltk"
   ]
  },
  {
   "cell_type": "markdown",
   "metadata": {},
   "source": [
    "En este caso los datos de interes sera la variedad que es el tipo de vino , para que al graficar salgan los nombres de los vinos."
   ]
  },
  {
   "cell_type": "markdown",
   "metadata": {},
   "source": [
    "Tomare la variable vino que tenia al principio, borrare las columnas que no vaya a utilizar para este ejercicio y cambiare el nombre de mis columnas principales. Y quitare los valores nulos de las columnas puntaje, precio, pais y variedad\n",
    ".\n",
    "A su vez dare una pequeña visualizacion de la tabla."
   ]
  },
  {
   "cell_type": "code",
   "execution_count": 96,
   "metadata": {},
   "outputs": [
    {
     "data": {
      "text/html": [
       "<div>\n",
       "<style scoped>\n",
       "    .dataframe tbody tr th:only-of-type {\n",
       "        vertical-align: middle;\n",
       "    }\n",
       "\n",
       "    .dataframe tbody tr th {\n",
       "        vertical-align: top;\n",
       "    }\n",
       "\n",
       "    .dataframe thead th {\n",
       "        text-align: right;\n",
       "    }\n",
       "</style>\n",
       "<table border=\"1\" class=\"dataframe\">\n",
       "  <thead>\n",
       "    <tr style=\"text-align: right;\">\n",
       "      <th></th>\n",
       "      <th>Id</th>\n",
       "      <th>Pais</th>\n",
       "      <th>Puntaje</th>\n",
       "      <th>Precio</th>\n",
       "      <th>Variedad</th>\n",
       "    </tr>\n",
       "  </thead>\n",
       "  <tbody>\n",
       "    <tr>\n",
       "      <td>0</td>\n",
       "      <td>0</td>\n",
       "      <td>US</td>\n",
       "      <td>96</td>\n",
       "      <td>235.0</td>\n",
       "      <td>Cabernet Sauvignon</td>\n",
       "    </tr>\n",
       "    <tr>\n",
       "      <td>1</td>\n",
       "      <td>1</td>\n",
       "      <td>Spain</td>\n",
       "      <td>96</td>\n",
       "      <td>110.0</td>\n",
       "      <td>Tinta de Toro</td>\n",
       "    </tr>\n",
       "    <tr>\n",
       "      <td>2</td>\n",
       "      <td>2</td>\n",
       "      <td>US</td>\n",
       "      <td>96</td>\n",
       "      <td>90.0</td>\n",
       "      <td>Sauvignon Blanc</td>\n",
       "    </tr>\n",
       "    <tr>\n",
       "      <td>3</td>\n",
       "      <td>3</td>\n",
       "      <td>US</td>\n",
       "      <td>96</td>\n",
       "      <td>65.0</td>\n",
       "      <td>Pinot Noir</td>\n",
       "    </tr>\n",
       "    <tr>\n",
       "      <td>4</td>\n",
       "      <td>4</td>\n",
       "      <td>France</td>\n",
       "      <td>95</td>\n",
       "      <td>66.0</td>\n",
       "      <td>Provence red blend</td>\n",
       "    </tr>\n",
       "    <tr>\n",
       "      <td>5</td>\n",
       "      <td>5</td>\n",
       "      <td>Spain</td>\n",
       "      <td>95</td>\n",
       "      <td>73.0</td>\n",
       "      <td>Tinta de Toro</td>\n",
       "    </tr>\n",
       "    <tr>\n",
       "      <td>6</td>\n",
       "      <td>6</td>\n",
       "      <td>Spain</td>\n",
       "      <td>95</td>\n",
       "      <td>65.0</td>\n",
       "      <td>Tinta de Toro</td>\n",
       "    </tr>\n",
       "    <tr>\n",
       "      <td>7</td>\n",
       "      <td>7</td>\n",
       "      <td>Spain</td>\n",
       "      <td>95</td>\n",
       "      <td>110.0</td>\n",
       "      <td>Tinta de Toro</td>\n",
       "    </tr>\n",
       "    <tr>\n",
       "      <td>8</td>\n",
       "      <td>8</td>\n",
       "      <td>US</td>\n",
       "      <td>95</td>\n",
       "      <td>65.0</td>\n",
       "      <td>Pinot Noir</td>\n",
       "    </tr>\n",
       "    <tr>\n",
       "      <td>9</td>\n",
       "      <td>9</td>\n",
       "      <td>US</td>\n",
       "      <td>95</td>\n",
       "      <td>60.0</td>\n",
       "      <td>Pinot Noir</td>\n",
       "    </tr>\n",
       "  </tbody>\n",
       "</table>\n",
       "</div>"
      ],
      "text/plain": [
       "   Id    Pais  Puntaje  Precio            Variedad\n",
       "0   0      US       96   235.0  Cabernet Sauvignon\n",
       "1   1   Spain       96   110.0       Tinta de Toro\n",
       "2   2      US       96    90.0     Sauvignon Blanc\n",
       "3   3      US       96    65.0          Pinot Noir\n",
       "4   4  France       95    66.0  Provence red blend\n",
       "5   5   Spain       95    73.0       Tinta de Toro\n",
       "6   6   Spain       95    65.0       Tinta de Toro\n",
       "7   7   Spain       95   110.0       Tinta de Toro\n",
       "8   8      US       95    65.0          Pinot Noir\n",
       "9   9      US       95    60.0          Pinot Noir"
      ]
     },
     "execution_count": 96,
     "metadata": {},
     "output_type": "execute_result"
    }
   ],
   "source": [
    "vinonuevo=vino.drop([ 'description', 'designation','region_1' ,'region_2','province' ,'winery'],axis=1)\n",
    "vinonuevo2=vinonuevo.rename(columns= {'Unnamed: 0':'Id', 'country':'Pais', 'points':'Puntaje','price':'Precio', 'variety':'Variedad'})\n",
    "vinonuevo3=vinonuevo2.dropna(subset=['Pais','Puntaje','Precio'],axis=0)\n",
    "vinonuevo3.head(10)"
   ]
  },
  {
   "cell_type": "markdown",
   "metadata": {},
   "source": [
    "Ya una vez modificada la base de datos y eliminados los datos que considero  innecesarios, quiero saber cuales son los datos unicos de variedad."
   ]
  },
  {
   "cell_type": "code",
   "execution_count": 200,
   "metadata": {},
   "outputs": [
    {
     "data": {
      "text/plain": [
       "array(['Cabernet Sauvignon', 'Tinta de Toro', 'Sauvignon Blanc',\n",
       "       'Pinot Noir', 'Provence red blend', 'Friulano', 'Tannat',\n",
       "       'Chardonnay', 'Tempranillo', 'Malbec', 'Rosé', 'Tempranillo Blend',\n",
       "       'Syrah', 'Mavrud', 'Sparkling Blend', 'Sangiovese',\n",
       "       'Rhône-style White Blend', 'Red Blend', 'Mencía', 'Palomino',\n",
       "       'Petite Sirah', 'Riesling', 'Cabernet Sauvignon-Syrah',\n",
       "       'Portuguese Red', 'Pinot Gris', 'Nebbiolo', 'Meritage', 'Baga',\n",
       "       'Glera', 'Malbec-Merlot', 'Merlot-Malbec', 'Ugni Blanc-Colombard',\n",
       "       'Viognier', 'Cabernet Sauvignon-Cabernet Franc', 'Moscato',\n",
       "       'Pinot Grigio', 'Cabernet Franc', 'White Blend', 'Gamay',\n",
       "       'Zinfandel', 'Greco', 'Barbera', 'Grenache',\n",
       "       'Rhône-style Red Blend', 'Albariño', 'Malvasia Bianca',\n",
       "       'Assyrtiko', 'Malagouzia', 'Carmenère', 'Bordeaux-style Red Blend',\n",
       "       'Touriga Nacional', 'Agiorgitiko', 'Picpoul', 'Godello',\n",
       "       'Gewürztraminer', 'Merlot', 'Syrah-Grenache', 'G-S-M', 'Mourvèdre',\n",
       "       'Bordeaux-style White Blend', 'Petit Verdot', 'Muscat',\n",
       "       'Cabernet Sauvignon-Merlot', 'Pinot Bianco', 'Alvarinho',\n",
       "       'Portuguese White', 'Garganega', 'Sauvignon', 'Tannat-Cabernet',\n",
       "       'Alicante Bouschet', 'Aragonês', 'Silvaner', 'Ugni Blanc',\n",
       "       'Grüner Veltliner', 'Frappato', 'Lemberger', 'Sylvaner',\n",
       "       'Chasselas', 'Alsace white blend', 'Früburgunder', 'Kekfrankos',\n",
       "       'Vermentino', 'Sherry', 'Aglianico', 'Torrontés', 'Primitivo',\n",
       "       'Semillon-Sauvignon Blanc', 'Portuguese Rosé', 'Grenache-Syrah',\n",
       "       'Furmint', 'Carignane', 'Pinot Blanc', 'St. Laurent',\n",
       "       'Blauburgunder', 'Blaufränkisch', 'Scheurebe', 'Ribolla Gialla',\n",
       "       'Charbono', 'Malbec-Cabernet Sauvignon', 'Pinot Noir-Gamay',\n",
       "       'Pinot Nero', 'Gros Manseng', 'Nerello Mascalese', 'Shiraz',\n",
       "       'Negroamaro', 'Champagne Blend', 'Romorantin',\n",
       "       'Syrah-Cabernet Sauvignon', 'Tannat-Merlot', 'Duras', 'Garnacha',\n",
       "       'Tinta Francisca', 'Portuguese Sparkling', 'Chenin Blanc',\n",
       "       'Turbiana', 'Petite Verdot', 'Posip', 'Fumé Blanc', 'Monastrell',\n",
       "       'Roussanne', 'Müller-Thurgau', 'Pinot Auxerrois', 'Port',\n",
       "       'Cabernet Blend', 'Cabernet Franc-Cabernet Sauvignon', 'Castelão',\n",
       "       'Encruzado', 'Touriga Nacional-Cabernet Sauvignon',\n",
       "       'Colombard-Sauvignon Blanc', 'Moscatel', 'Marsanne', 'Siria',\n",
       "       'Garnacha Blanca', 'Merlot-Cabernet Sauvignon', 'Arinto', 'Melon',\n",
       "       'Carricante', 'Fiano', 'Schwartzriesling', 'Sangiovese-Syrah',\n",
       "       'Tannat-Cabernet Franc', 'Cabernet Franc-Merlot',\n",
       "       'Sauvignon Blanc-Semillon', 'Macabeo', 'Alfrocheiro', 'Aligoté',\n",
       "       'Verdejo', 'Grenache Blanc', 'Spätburgunder', 'Ciliegiolo',\n",
       "       'Cabernet Sauvignon-Carmenère', 'Auxerrois', 'Sirica', 'Zweigelt',\n",
       "       'Negrette', 'Pugnitello', 'Rosado', 'Grillo', 'Rosato',\n",
       "       'Malvazija', 'Kalecik Karasi', 'Muskat Ottonel', 'Malbec-Bonarda',\n",
       "       'Tempranillo-Cabernet Sauvignon', 'Rivaner', 'Trepat', 'Baco Noir',\n",
       "       'Trebbiano', 'Chardonnay-Viognier', 'Syrah-Mourvèdre', 'Graciano',\n",
       "       'Perricone', 'Falanghina', 'Vranec', 'Carignan', 'Cabernet-Shiraz',\n",
       "       'Verdelho', 'Pedro Ximénez', 'Marsanne-Roussanne', 'Malbec Blend',\n",
       "       'Weissburgunder', 'Morava', 'Ruen', 'Hondarrabi Zuri',\n",
       "       'Catarratto', 'Chardonnay-Sauvignon Blanc', 'Vidal', 'Rieslaner',\n",
       "       'Dornfelder', 'Tinto Fino', 'Chenin Blanc-Chardonnay',\n",
       "       'Gelber Muskateller', 'Roter Veltliner', 'Aragonez', 'Vitovska',\n",
       "       'Pinot Noir-Syrah', 'Gamay Noir', 'Grauburgunder', 'Cannonau',\n",
       "       \"Nero d'Avola\", 'Mauzac', 'Gros and Petit Manseng', 'Sémillon',\n",
       "       'Lambrusco di Sorbara', 'Teran', 'Dolcetto', 'Cinsault',\n",
       "       'Assyrtico', 'Teroldego', 'Tamjanika', 'Boğazkere', 'Kadarka',\n",
       "       'Narince', 'Malbec-Petit Verdot', 'Veltliner', 'Traminer',\n",
       "       'Lambrusco', 'Arneis', 'Cabernet Sauvignon-Shiraz',\n",
       "       'Tocai Friulano', 'Fer Servadou', 'Muskateller',\n",
       "       'Nerello Cappuccio', 'Moscatel Roxo', 'Elbling', 'Saperavi',\n",
       "       'Antão Vaz', 'Pinot Meunier', 'Petite Syrah', 'Malvasia',\n",
       "       'Malbec-Tannat', 'Kallmet', 'Syrah-Merlot', 'Montepulciano',\n",
       "       'Kerner', 'Prié Blanc', 'Žilavka', 'Chardonnay-Semillon',\n",
       "       'Carmenère-Cabernet Sauvignon', 'Loureiro',\n",
       "       'Merlot-Cabernet Franc', 'Orangetraube',\n",
       "       'Cabernet Sauvignon-Sangiovese', 'Okuzgozu', 'Viura',\n",
       "       'Garnacha-Syrah', 'Zibibbo', 'Feteasca', 'Xarel-lo', 'Prokupac',\n",
       "       'Códega do Larinho', 'Inzolia', 'Cabernet-Syrah',\n",
       "       'Lambrusco Grasparossa', 'Malagousia', 'Austrian Red Blend',\n",
       "       'Cabernet Franc-Malbec', 'Feteasca Neagra', 'Yapincak',\n",
       "       'Tempranillo-Shiraz', 'Cabernet Sauvignon Grenache', 'Tinta Roriz',\n",
       "       'Merlot-Syrah', 'Tinta Fina', 'Colombard-Ugni Blanc', 'Colombard',\n",
       "       'Roditis', 'Grenache-Carignan', 'Emir', 'Orange Muscat',\n",
       "       'Karalahna', 'Trincadeira', 'Fernão Pires', 'Refosco',\n",
       "       'Pied de Perdrix', 'Vignoles', 'Carignan-Grenache',\n",
       "       \"Muscat d'Alexandrie\", 'Bobal', 'Symphony', 'Norton', 'Rkatsiteli',\n",
       "       'Roussanne-Viognier', 'Pinela', 'Blatina', 'Shiraz-Viognier',\n",
       "       'Bonarda', 'Sauvignon Blanc-Chardonnay', 'Chambourcin',\n",
       "       'Traminette', 'Grenache Blend', 'Jaen', 'Mondeuse',\n",
       "       'Feteascǎ Regalǎ', 'Teroldego Rotaliano',\n",
       "       'Sangiovese-Cabernet Sauvignon', 'Listán Negro',\n",
       "       'Syrah-Petite Sirah', 'Viognier-Chardonnay', 'Kuntra', 'Jacquère',\n",
       "       'Portuguiser', 'Verdejo-Viura', 'Tinto del Pais', 'Moscato Giallo',\n",
       "       'Cabernet Sauvignon-Malbec', 'Mission', 'Neuburger', 'Bastardo',\n",
       "       'Bical', 'Carineña', 'Garnacha-Tempranillo', 'Pecorino',\n",
       "       'Garnacha Blend', 'Cococciola', 'Passerina', 'Gaglioppo',\n",
       "       'Garnacha Tintorera', 'Prieto Picudo', 'Tempranillo Blanco',\n",
       "       \"Cesanese d'Affile\", 'Muscat Canelli', 'Cabernet', 'Malvasia Nera',\n",
       "       'Premsal', 'Mansois', 'Petit Manseng', 'Welschriesling',\n",
       "       'Shiraz-Tempranillo', 'Verdicchio', 'Sagrantino', 'Rolle',\n",
       "       'Trousseau Gris', 'Counoise', 'Mantonico', 'Grecanico',\n",
       "       'Cariñena-Garnacha', 'Tokaji', 'Austrian white blend',\n",
       "       'Shiraz-Grenache', 'Claret', 'Syrah-Tempranillo', 'Uva di Troia',\n",
       "       'Aleatico', 'Viognier-Marsanne', 'Pinot Grigio-Sauvignon Blanc',\n",
       "       'Pallagrello Nero', 'Chardonnay-Albariño', 'Savagnin', 'Pinotage',\n",
       "       'Braucol', 'Moschofilero', 'Nero di Troia', 'Carignano',\n",
       "       'Susumaniello', 'Baga-Touriga Nacional', 'Vidal Blanc',\n",
       "       'Vernaccia', 'Corvina, Rondinella, Molinara', 'Mavrotragano',\n",
       "       'Garnacha-Monastrell', 'Cabernet Merlot', 'Monastrell-Syrah',\n",
       "       'Malbec-Tempranillo', 'Syrah-Viognier', 'Verdeca', 'Insolia',\n",
       "       'Merlot-Argaman', 'Chenin Blanc-Viognier', 'Sangiovese Grosso',\n",
       "       'Garnacha-Cabernet', 'Maturana', 'Malvar', 'Airen', 'Monica',\n",
       "       'Gewürztraminer-Riesling', 'Lagrein', 'Steen',\n",
       "       'Chenin Blanc-Sauvignon Blanc', 'Shiraz-Cabernet Sauvignon',\n",
       "       'Picolit', 'Prosecco', 'White Riesling', 'Petroulianos',\n",
       "       'Mavrodaphne', 'Savatiano', 'Tempranillo-Garnacha', 'Vidadillo',\n",
       "       'Syrah-Cabernet', 'Grenache-Shiraz', 'Prugnolo Gentile',\n",
       "       'Rotgipfler', 'Cabernet Sauvignon-Tempranillo', 'Edelzwicker',\n",
       "       'Cortese', 'Chardonnay Weissburgunder', 'Torbato', 'Verduzzo',\n",
       "       'Debit', 'Bovale', 'Tempranillo-Merlot', 'Xinisteri', 'Piedirosso',\n",
       "       'Merlot-Cabernet', 'Verdejo-Sauvignon Blanc', 'Black Muscat',\n",
       "       'Koshu', 'Királyleányka', 'Favorita', 'Xinomavro',\n",
       "       'Cserszegi Fűszeres', 'Hárslevelü', 'Pallagrello', 'Mavroudi',\n",
       "       'Muscat Blanc', 'Schiava', 'Meoru', 'Trebbiano di Lugana',\n",
       "       'Coda di Volpe', 'Raboso', 'Shiraz-Pinotage', 'Greco Bianco',\n",
       "       'Tai', 'Tokay', 'Muscadel', 'Cabernet Franc-Carmenère',\n",
       "       'Tintilia ', 'Segalin', 'Lacrima', 'Cerceal', 'Cayuga',\n",
       "       'Sauvignon Gris', 'Albana', 'Corvina', 'Macabeo-Moscatel',\n",
       "       'Macabeo-Chardonnay', 'Moscadello', 'Viognier-Roussanne',\n",
       "       'Plavac Mali', 'Cabernet Sauvignon-Merlot-Shiraz',\n",
       "       'Sauvignon Blanc-Chenin Blanc', 'Shiraz-Mourvèdre', 'Albarín',\n",
       "       'Black Monukka', 'Morio Muskat', 'Nielluciu',\n",
       "       'Touriga Nacional Blend', 'Alicante',\n",
       "       'Cabernet Sauvignon and Tinta Roriz', 'Viura-Chardonnay',\n",
       "       'Karasakiz', 'Casavecchia', 'Malvasia-Viura', 'Nosiola',\n",
       "       'Incrocio Manzoni', 'Viura-Verdejo', 'Erbaluce', 'Forcallà',\n",
       "       'Pansa Blanca', 'Catalanesca', 'Zierfandler', 'Muscadelle',\n",
       "       'Malbec-Syrah', 'Pignoletto', 'Cabernet Pfeffer',\n",
       "       'Syrah-Cabernet Franc', 'Valdiguié', 'Mazuelo', 'Brachetto',\n",
       "       'Jacquez', 'Moscofilero', 'Chardonnay-Sauvignon',\n",
       "       'Madeleine Angevine', 'Ruché', 'Merlot-Petite Verdot',\n",
       "       'Roussanne-Marsanne', 'Moscatel de Alejandría',\n",
       "       'Muscat Blanc à Petit Grain', 'Sämling', 'Mtsvane', 'Zlahtina',\n",
       "       'Doña Blanca', 'Carmenère-Syrah', 'Roussanne-Grenache Blanc',\n",
       "       'Kinali Yapincak', 'Robola', 'Pinot Blanc-Chardonnay',\n",
       "       'Saperavi-Merlot', 'Malvasia Istriana', 'Torontel', 'Picapoll',\n",
       "       'Zierfandler-Rotgipfler', 'Malvasia Fina', 'Chinuri', 'Muscatel',\n",
       "       'Sousão', 'Silvaner-Traminer', 'Syrah-Carignan', 'Bukettraube',\n",
       "       'Argaman', 'Provence white blend', 'Touriga Franca', 'Morillon',\n",
       "       'Carignan-Syrah', 'Aidani', 'Viognier-Grenache Blanc', 'Albarossa',\n",
       "       'Sauvignon Blanc-Verdejo', \"Loin de l'Oeil\", 'Grenache-Mourvèdre',\n",
       "       'Tannat-Syrah', 'Seyval Blanc', 'Tocai Rosso',\n",
       "       'Alvarinho-Chardonnay', 'Pinot-Chardonnay', 'Moscatel Graúdo',\n",
       "       'Pigato', 'Siegerrebe', 'Bombino Bianco', 'Trebbiano-Malvasia',\n",
       "       'Magliocco', 'Verduzzo Friulano ', 'Vespaiolo', 'Marzemino',\n",
       "       'Tempranillo-Malbec', 'Crespiello', 'Cabernet Franc-Tempranillo',\n",
       "       'Roviello', 'Caprettone', 'Garnacha-Graciano', 'Mataro',\n",
       "       'Moscato di Noto', 'Sauvignonasse', 'Madeira Blend', 'St. George',\n",
       "       'Nasco', 'Rebula', 'Chardonnay-Pinot Blanc', 'Pallagrello Bianco',\n",
       "       'Vilana', 'Pelaverga Piccolo', 'Syrah-Grenache-Viognier',\n",
       "       'Nuragus', 'Alvarelhão', 'Durif', 'Angevine',\n",
       "       'Semillon-Chardonnay', 'Pinot Blanc-Pinot Noir',\n",
       "       'Johannisberg Riesling', 'Manzoni', 'Maréchal Foch',\n",
       "       'Blauer Portugieser', 'Shiraz-Malbec', 'Vinhão',\n",
       "       'Cabernet Moravia', 'País', 'Altesse', 'Avesso', 'Mandilaria',\n",
       "       'Freisa', 'Merlot-Shiraz', 'Dafni', 'Xynisteri', 'Roscetto',\n",
       "       'Sideritis', 'Pinotage-Merlot', 'Grolleau', 'Gragnano', 'Ansonica',\n",
       "       'Sangiovese Cabernet', 'Tinta Barroca', 'Syrah-Bonarda',\n",
       "       'Marsanne-Viognier', 'Azal', 'Durello', 'Syrah-Malbec',\n",
       "       'Malbec-Cabernet Franc', 'Franconia', 'Rufete', 'Parraleta',\n",
       "       'St. Vincent', 'Groppello', 'Athiri', 'Muscat of Alexandria',\n",
       "       'Malvoisie', 'Grignolino', 'Colorino', 'Merlot-Grenache',\n",
       "       'Grechetto', 'Chardonel', 'Macabeo-Gewürztraminer',\n",
       "       'Grenache Gris', 'Muscat Hamburg', 'Sarba', 'Roter Traminer',\n",
       "       'Irsai Oliver', 'Chardonnay-Pinot Gris', 'Vermentino Nero',\n",
       "       'Pardina', 'Apple', 'Clairette', 'Sauvignon Musqué',\n",
       "       'Shiraz-Merlot', 'Viognier-Valdiguié', 'Chardonelle', 'Sercial',\n",
       "       'Malmsey', 'Bual', 'Tinta Negra Mole', 'Pinot Grigio-Chardonnay',\n",
       "       'White Port', 'Muscadet', 'Viura-Sauvignon Blanc', 'Tocai',\n",
       "       'Huxelrebe', 'Tokay Pinot Gris', 'Chardonnay-Pinot Grigio',\n",
       "       'Moristel', 'Carnelian'], dtype=object)"
      ]
     },
     "execution_count": 200,
     "metadata": {},
     "output_type": "execute_result"
    }
   ],
   "source": [
    "vinonuevo3['Variedad'].unique()"
   ]
  },
  {
   "cell_type": "markdown",
   "metadata": {},
   "source": [
    "Ahora se agregara una nueva carpeta csv para tener enumerados los datos de las filas."
   ]
  },
  {
   "cell_type": "code",
   "execution_count": 146,
   "metadata": {},
   "outputs": [
    {
     "data": {
      "text/html": [
       "<div>\n",
       "<style scoped>\n",
       "    .dataframe tbody tr th:only-of-type {\n",
       "        vertical-align: middle;\n",
       "    }\n",
       "\n",
       "    .dataframe tbody tr th {\n",
       "        vertical-align: top;\n",
       "    }\n",
       "\n",
       "    .dataframe thead th {\n",
       "        text-align: right;\n",
       "    }\n",
       "</style>\n",
       "<table border=\"1\" class=\"dataframe\">\n",
       "  <thead>\n",
       "    <tr style=\"text-align: right;\">\n",
       "      <th></th>\n",
       "      <th>Id</th>\n",
       "      <th>Pais</th>\n",
       "      <th>Puntaje</th>\n",
       "      <th>Precio</th>\n",
       "      <th>Variedad</th>\n",
       "    </tr>\n",
       "  </thead>\n",
       "  <tbody>\n",
       "    <tr>\n",
       "      <td>0</td>\n",
       "      <td>0</td>\n",
       "      <td>US</td>\n",
       "      <td>96</td>\n",
       "      <td>235.0</td>\n",
       "      <td>Cabernet Sauvignon</td>\n",
       "    </tr>\n",
       "    <tr>\n",
       "      <td>1</td>\n",
       "      <td>1</td>\n",
       "      <td>Spain</td>\n",
       "      <td>96</td>\n",
       "      <td>110.0</td>\n",
       "      <td>Tinta de Toro</td>\n",
       "    </tr>\n",
       "    <tr>\n",
       "      <td>2</td>\n",
       "      <td>2</td>\n",
       "      <td>US</td>\n",
       "      <td>96</td>\n",
       "      <td>90.0</td>\n",
       "      <td>Sauvignon Blanc</td>\n",
       "    </tr>\n",
       "    <tr>\n",
       "      <td>3</td>\n",
       "      <td>3</td>\n",
       "      <td>US</td>\n",
       "      <td>96</td>\n",
       "      <td>65.0</td>\n",
       "      <td>Pinot Noir</td>\n",
       "    </tr>\n",
       "    <tr>\n",
       "      <td>4</td>\n",
       "      <td>4</td>\n",
       "      <td>France</td>\n",
       "      <td>95</td>\n",
       "      <td>66.0</td>\n",
       "      <td>Provence red blend</td>\n",
       "    </tr>\n",
       "    <tr>\n",
       "      <td>5</td>\n",
       "      <td>5</td>\n",
       "      <td>Spain</td>\n",
       "      <td>95</td>\n",
       "      <td>73.0</td>\n",
       "      <td>Tinta de Toro</td>\n",
       "    </tr>\n",
       "    <tr>\n",
       "      <td>6</td>\n",
       "      <td>6</td>\n",
       "      <td>Spain</td>\n",
       "      <td>95</td>\n",
       "      <td>65.0</td>\n",
       "      <td>Tinta de Toro</td>\n",
       "    </tr>\n",
       "    <tr>\n",
       "      <td>7</td>\n",
       "      <td>7</td>\n",
       "      <td>Spain</td>\n",
       "      <td>95</td>\n",
       "      <td>110.0</td>\n",
       "      <td>Tinta de Toro</td>\n",
       "    </tr>\n",
       "    <tr>\n",
       "      <td>8</td>\n",
       "      <td>8</td>\n",
       "      <td>US</td>\n",
       "      <td>95</td>\n",
       "      <td>65.0</td>\n",
       "      <td>Pinot Noir</td>\n",
       "    </tr>\n",
       "    <tr>\n",
       "      <td>9</td>\n",
       "      <td>9</td>\n",
       "      <td>US</td>\n",
       "      <td>95</td>\n",
       "      <td>60.0</td>\n",
       "      <td>Pinot Noir</td>\n",
       "    </tr>\n",
       "  </tbody>\n",
       "</table>\n",
       "</div>"
      ],
      "text/plain": [
       "   Id    Pais  Puntaje  Precio            Variedad\n",
       "0   0      US       96   235.0  Cabernet Sauvignon\n",
       "1   1   Spain       96   110.0       Tinta de Toro\n",
       "2   2      US       96    90.0     Sauvignon Blanc\n",
       "3   3      US       96    65.0          Pinot Noir\n",
       "4   4  France       95    66.0  Provence red blend\n",
       "5   5   Spain       95    73.0       Tinta de Toro\n",
       "6   6   Spain       95    65.0       Tinta de Toro\n",
       "7   7   Spain       95   110.0       Tinta de Toro\n",
       "8   8      US       95    65.0          Pinot Noir\n",
       "9   9      US       95    60.0          Pinot Noir"
      ]
     },
     "execution_count": 146,
     "metadata": {},
     "output_type": "execute_result"
    }
   ],
   "source": [
    "vinonuevo3.to_csv('s-rev.csv',index=False)\n",
    "read = pd.read_csv(\"s-rev.csv\")\n",
    "read.head(10)"
   ]
  },
  {
   "cell_type": "markdown",
   "metadata": {},
   "source": [
    "Importare varias librerias que seran utilizadas para el grafico.\n",
    "Tambien tuve que instalar wordcloud para poder utilizarlo en esta practica.\n",
    "Se crea otro archivo csv para tener guardadas las columnas y poder enumerarlas."
   ]
  },
  {
   "cell_type": "code",
   "execution_count": 195,
   "metadata": {},
   "outputs": [
    {
     "data": {
      "text/html": [
       "<div>\n",
       "<style scoped>\n",
       "    .dataframe tbody tr th:only-of-type {\n",
       "        vertical-align: middle;\n",
       "    }\n",
       "\n",
       "    .dataframe tbody tr th {\n",
       "        vertical-align: top;\n",
       "    }\n",
       "\n",
       "    .dataframe thead th {\n",
       "        text-align: right;\n",
       "    }\n",
       "</style>\n",
       "<table border=\"1\" class=\"dataframe\">\n",
       "  <thead>\n",
       "    <tr style=\"text-align: right;\">\n",
       "      <th></th>\n",
       "      <th>0</th>\n",
       "      <th>1</th>\n",
       "      <th>2</th>\n",
       "      <th>3</th>\n",
       "      <th>4</th>\n",
       "    </tr>\n",
       "  </thead>\n",
       "  <tbody>\n",
       "    <tr>\n",
       "      <td>0</td>\n",
       "      <td>Id</td>\n",
       "      <td>Pais</td>\n",
       "      <td>Puntaje</td>\n",
       "      <td>Precio</td>\n",
       "      <td>Variedad</td>\n",
       "    </tr>\n",
       "    <tr>\n",
       "      <td>1</td>\n",
       "      <td>0</td>\n",
       "      <td>US</td>\n",
       "      <td>96</td>\n",
       "      <td>235.0</td>\n",
       "      <td>Cabernet Sauvignon</td>\n",
       "    </tr>\n",
       "    <tr>\n",
       "      <td>2</td>\n",
       "      <td>1</td>\n",
       "      <td>Spain</td>\n",
       "      <td>96</td>\n",
       "      <td>110.0</td>\n",
       "      <td>Tinta de Toro</td>\n",
       "    </tr>\n",
       "    <tr>\n",
       "      <td>3</td>\n",
       "      <td>2</td>\n",
       "      <td>US</td>\n",
       "      <td>96</td>\n",
       "      <td>90.0</td>\n",
       "      <td>Sauvignon Blanc</td>\n",
       "    </tr>\n",
       "    <tr>\n",
       "      <td>4</td>\n",
       "      <td>3</td>\n",
       "      <td>US</td>\n",
       "      <td>96</td>\n",
       "      <td>65.0</td>\n",
       "      <td>Pinot Noir</td>\n",
       "    </tr>\n",
       "    <tr>\n",
       "      <td>5</td>\n",
       "      <td>4</td>\n",
       "      <td>France</td>\n",
       "      <td>95</td>\n",
       "      <td>66.0</td>\n",
       "      <td>Provence red blend</td>\n",
       "    </tr>\n",
       "    <tr>\n",
       "      <td>6</td>\n",
       "      <td>5</td>\n",
       "      <td>Spain</td>\n",
       "      <td>95</td>\n",
       "      <td>73.0</td>\n",
       "      <td>Tinta de Toro</td>\n",
       "    </tr>\n",
       "    <tr>\n",
       "      <td>7</td>\n",
       "      <td>6</td>\n",
       "      <td>Spain</td>\n",
       "      <td>95</td>\n",
       "      <td>65.0</td>\n",
       "      <td>Tinta de Toro</td>\n",
       "    </tr>\n",
       "    <tr>\n",
       "      <td>8</td>\n",
       "      <td>7</td>\n",
       "      <td>Spain</td>\n",
       "      <td>95</td>\n",
       "      <td>110.0</td>\n",
       "      <td>Tinta de Toro</td>\n",
       "    </tr>\n",
       "    <tr>\n",
       "      <td>9</td>\n",
       "      <td>8</td>\n",
       "      <td>US</td>\n",
       "      <td>95</td>\n",
       "      <td>65.0</td>\n",
       "      <td>Pinot Noir</td>\n",
       "    </tr>\n",
       "  </tbody>\n",
       "</table>\n",
       "</div>"
      ],
      "text/plain": [
       "    0       1        2       3                   4\n",
       "0  Id    Pais  Puntaje  Precio            Variedad\n",
       "1   0      US       96   235.0  Cabernet Sauvignon\n",
       "2   1   Spain       96   110.0       Tinta de Toro\n",
       "3   2      US       96    90.0     Sauvignon Blanc\n",
       "4   3      US       96    65.0          Pinot Noir\n",
       "5   4  France       95    66.0  Provence red blend\n",
       "6   5   Spain       95    73.0       Tinta de Toro\n",
       "7   6   Spain       95    65.0       Tinta de Toro\n",
       "8   7   Spain       95   110.0       Tinta de Toro\n",
       "9   8      US       95    65.0          Pinot Noir"
      ]
     },
     "execution_count": 195,
     "metadata": {},
     "output_type": "execute_result"
    }
   ],
   "source": [
    "import ssl\n",
    "import matplotlib.pyplot as plt\n",
    "from wordcloud import WordCloud\n",
    "from nltk import word_tokenize\n",
    "from nltk.corpus import stopwords\n",
    "from nltk.stem import SnowballStemmer\n",
    "from nltk.tokenize import RegexpTokenizer\n",
    "import pandas  as pa\n",
    "\n",
    "if getattr(ssl, '_create_unverified_context', None): \n",
    "    ssl._create_default_https_context = ssl._create_unverified_context\n",
    "\n",
    "read.to_csv('rev-solo.csv',index=False)\n",
    "pd2 = pa.read_csv('rev-solo.csv',header=None)\n",
    "pd2.head(10)\n",
    "\n"
   ]
  },
  {
   "cell_type": "markdown",
   "metadata": {},
   "source": [
    "Ahora se graficara con base a pd2 que es la variable donde tenemos guardada nuestra base de datos final."
   ]
  },
  {
   "cell_type": "code",
   "execution_count": 199,
   "metadata": {},
   "outputs": [
    {
     "data": {
      "image/png": "[encoded data removed]",
      "text/plain": [
       "<Figure size 1080x504 with 1 Axes>"
      ]
     },
     "metadata": {
      "needs_background": "light"
     },
     "output_type": "display_data"
    }
   ],
   "source": [
    "pd2.columns = ['Id','Pais','Puntaje','Precio','Variedad']\n",
    "n = len(pd2)\n",
    "spa = stopwords.words(\"english\")\n",
    "stemmer = SnowballStemmer('english')\n",
    "\n",
    "reemplazos = []\n",
    "for r in range(n):\n",
    "    original = pd2.Variedad[r]\n",
    "    reemplazo = ''\n",
    "    if original != 'NaN': \n",
    "        quedar = [stemmer.stem(p) for p in tokenizer.tokenize(original) \n",
    "                                    if p.lower() not in spa]   \n",
    "    reemplazos.append(' '.join(quedar))\n",
    "pd2['limpios'] = reemplazos\n",
    "texto = ' '.join(reemplazos)\n",
    "nube = WordCloud().generate(texto)\n",
    "plt.rcParams[\"figure.figsize\"] = [15, 7]\n",
    "plt.imshow(nube)\n",
    "plt.axis(\"off\")\n",
    "plt.show()"
   ]
  }
 ],
 "metadata": {
  "kernelspec": {
   "display_name": "Python 3",
   "language": "python",
   "name": "python3"
  },
  "language_info": {
   "codemirror_mode": {
    "name": "ipython",
    "version": 3
   },
   "file_extension": ".py",
   "mimetype": "text/x-python",
   "name": "python",
   "nbconvert_exporter": "python",
   "pygments_lexer": "ipython3",
   "version": "3.7.4"
  }
 },
 "nbformat": 4,
 "nbformat_minor": 2
}
