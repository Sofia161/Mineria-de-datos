{
 "cells": [
  {
   "cell_type": "markdown",
   "metadata": {},
   "source": [
    "# MI UNIVERSIDAD IDEAL"
   ]
  },
  {
   "cell_type": "markdown",
   "metadata": {},
   "source": [
    "## Descripcion de los datos"
   ]
  },
  {
   "cell_type": "markdown",
   "metadata": {},
   "source": [
    "Esta base de datos sera hecha para realizar encuestas con el fin de hacer que el usuario nos diga cuales son sus preferencias de carreras universitarias en Estados Unidos."
   ]
  },
  {
   "cell_type": "markdown",
   "metadata": {},
   "source": [
    "**Datos de la base**"
   ]
  },
  {
   "cell_type": "markdown",
   "metadata": {},
   "source": [
    "- Cantidad de filas y de columnas"
   ]
  },
  {
   "cell_type": "code",
   "execution_count": 1,
   "metadata": {},
   "outputs": [
    {
     "data": {
      "text/plain": [
       "(50, 9)"
      ]
     },
     "execution_count": 1,
     "metadata": {},
     "output_type": "execute_result"
    }
   ],
   "source": [
    "import pandas as pd\n",
    "\n",
    "datos= pd.read_csv(\"carreras.csv\",encoding='utf8')\n",
    "datos.shape"
   ]
  },
  {
   "cell_type": "markdown",
   "metadata": {},
   "source": [
    "- Tipo de datos"
   ]
  },
  {
   "cell_type": "code",
   "execution_count": 2,
   "metadata": {},
   "outputs": [
    {
     "data": {
      "text/plain": [
       "Undergraduate Major                                   object\n",
       "Starting Median Salary                               float64\n",
       "Mid-Career Median Salary                             float64\n",
       "Percent change from Starting to Mid-Career Salary    float64\n",
       "Mid-Career 10th Percentile Salary                    float64\n",
       "Mid-Career 25th Percentile Salary                    float64\n",
       "Mid-Career 75th Percentile Salary                    float64\n",
       "Mid-Career 90th Percentile Salary                    float64\n",
       "Best University                                       object\n",
       "dtype: object"
      ]
     },
     "execution_count": 2,
     "metadata": {},
     "output_type": "execute_result"
    }
   ],
   "source": [
    "datos.dtypes"
   ]
  },
  {
   "cell_type": "markdown",
   "metadata": {},
   "source": [
    "- Nombres columnas"
   ]
  },
  {
   "cell_type": "code",
   "execution_count": 3,
   "metadata": {},
   "outputs": [
    {
     "data": {
      "text/plain": [
       "Index(['Undergraduate Major', 'Starting Median Salary',\n",
       "       'Mid-Career Median Salary',\n",
       "       'Percent change from Starting to Mid-Career Salary',\n",
       "       'Mid-Career 10th Percentile Salary',\n",
       "       'Mid-Career 25th Percentile Salary',\n",
       "       'Mid-Career 75th Percentile Salary',\n",
       "       'Mid-Career 90th Percentile Salary', 'Best University'],\n",
       "      dtype='object')"
      ]
     },
     "execution_count": 3,
     "metadata": {},
     "output_type": "execute_result"
    }
   ],
   "source": [
    "datos.columns"
   ]
  },
  {
   "cell_type": "markdown",
   "metadata": {},
   "source": [
    "- Visualizacion de las primeras 5 filas "
   ]
  },
  {
   "cell_type": "code",
   "execution_count": 4,
   "metadata": {},
   "outputs": [
    {
     "data": {
      "text/html": [
       "<div>\n",
       "<style scoped>\n",
       "    .dataframe tbody tr th:only-of-type {\n",
       "        vertical-align: middle;\n",
       "    }\n",
       "\n",
       "    .dataframe tbody tr th {\n",
       "        vertical-align: top;\n",
       "    }\n",
       "\n",
       "    .dataframe thead th {\n",
       "        text-align: right;\n",
       "    }\n",
       "</style>\n",
       "<table border=\"1\" class=\"dataframe\">\n",
       "  <thead>\n",
       "    <tr style=\"text-align: right;\">\n",
       "      <th></th>\n",
       "      <th>Undergraduate Major</th>\n",
       "      <th>Starting Median Salary</th>\n",
       "      <th>Mid-Career Median Salary</th>\n",
       "      <th>Percent change from Starting to Mid-Career Salary</th>\n",
       "      <th>Mid-Career 10th Percentile Salary</th>\n",
       "      <th>Mid-Career 25th Percentile Salary</th>\n",
       "      <th>Mid-Career 75th Percentile Salary</th>\n",
       "      <th>Mid-Career 90th Percentile Salary</th>\n",
       "      <th>Best University</th>\n",
       "    </tr>\n",
       "  </thead>\n",
       "  <tbody>\n",
       "    <tr>\n",
       "      <td>0</td>\n",
       "      <td>Accounting</td>\n",
       "      <td>46000.0</td>\n",
       "      <td>77100.0</td>\n",
       "      <td>67.6</td>\n",
       "      <td>42200.0</td>\n",
       "      <td>56100.0</td>\n",
       "      <td>108000.0</td>\n",
       "      <td>152000.0</td>\n",
       "      <td>State University of New York (SUNY) at Oneonta</td>\n",
       "    </tr>\n",
       "    <tr>\n",
       "      <td>1</td>\n",
       "      <td>Aerospace Engineering</td>\n",
       "      <td>57700.0</td>\n",
       "      <td>101000.0</td>\n",
       "      <td>75.0</td>\n",
       "      <td>64300.0</td>\n",
       "      <td>82100.0</td>\n",
       "      <td>127000.0</td>\n",
       "      <td>161000.0</td>\n",
       "      <td>Embry-Riddle Aeronautical University (ERAU)</td>\n",
       "    </tr>\n",
       "    <tr>\n",
       "      <td>2</td>\n",
       "      <td>Agriculture</td>\n",
       "      <td>42600.0</td>\n",
       "      <td>71900.0</td>\n",
       "      <td>68.8</td>\n",
       "      <td>36300.0</td>\n",
       "      <td>52100.0</td>\n",
       "      <td>96300.0</td>\n",
       "      <td>150000.0</td>\n",
       "      <td>University of Hawaii</td>\n",
       "    </tr>\n",
       "    <tr>\n",
       "      <td>3</td>\n",
       "      <td>Anthropology</td>\n",
       "      <td>36800.0</td>\n",
       "      <td>61500.0</td>\n",
       "      <td>67.1</td>\n",
       "      <td>33800.0</td>\n",
       "      <td>45500.0</td>\n",
       "      <td>89300.0</td>\n",
       "      <td>138000.0</td>\n",
       "      <td>Dartmouth College</td>\n",
       "    </tr>\n",
       "    <tr>\n",
       "      <td>4</td>\n",
       "      <td>Architecture</td>\n",
       "      <td>41600.0</td>\n",
       "      <td>76800.0</td>\n",
       "      <td>84.6</td>\n",
       "      <td>50600.0</td>\n",
       "      <td>62200.0</td>\n",
       "      <td>97000.0</td>\n",
       "      <td>136000.0</td>\n",
       "      <td>University of Richmond</td>\n",
       "    </tr>\n",
       "  </tbody>\n",
       "</table>\n",
       "</div>"
      ],
      "text/plain": [
       "     Undergraduate Major  Starting Median Salary  Mid-Career Median Salary  \\\n",
       "0             Accounting                 46000.0                   77100.0   \n",
       "1  Aerospace Engineering                 57700.0                  101000.0   \n",
       "2            Agriculture                 42600.0                   71900.0   \n",
       "3           Anthropology                 36800.0                   61500.0   \n",
       "4           Architecture                 41600.0                   76800.0   \n",
       "\n",
       "   Percent change from Starting to Mid-Career Salary  \\\n",
       "0                                               67.6   \n",
       "1                                               75.0   \n",
       "2                                               68.8   \n",
       "3                                               67.1   \n",
       "4                                               84.6   \n",
       "\n",
       "   Mid-Career 10th Percentile Salary  Mid-Career 25th Percentile Salary  \\\n",
       "0                            42200.0                            56100.0   \n",
       "1                            64300.0                            82100.0   \n",
       "2                            36300.0                            52100.0   \n",
       "3                            33800.0                            45500.0   \n",
       "4                            50600.0                            62200.0   \n",
       "\n",
       "   Mid-Career 75th Percentile Salary  Mid-Career 90th Percentile Salary  \\\n",
       "0                           108000.0                           152000.0   \n",
       "1                           127000.0                           161000.0   \n",
       "2                            96300.0                           150000.0   \n",
       "3                            89300.0                           138000.0   \n",
       "4                            97000.0                           136000.0   \n",
       "\n",
       "                                  Best University  \n",
       "0  State University of New York (SUNY) at Oneonta  \n",
       "1     Embry-Riddle Aeronautical University (ERAU)  \n",
       "2                            University of Hawaii  \n",
       "3                               Dartmouth College  \n",
       "4                          University of Richmond  "
      ]
     },
     "execution_count": 4,
     "metadata": {},
     "output_type": "execute_result"
    }
   ],
   "source": [
    "datos.head()"
   ]
  },
  {
   "cell_type": "markdown",
   "metadata": {},
   "source": [
    "## Justificacion del uso de datos"
   ]
  },
  {
   "cell_type": "markdown",
   "metadata": {},
   "source": [
    "Lo que mas nos intereso fue que se tenían 3 conjuntos de datos acerca de universidades de Estados Unidos, donde se separan las universidades por región, por carrera y por nivel de universidad, entonces tenemos un mayor rango de opciones, para agregar la que decidamos mejor y a su vez nos interesó, porque sentimos que seria de ayuda para muchas personas en busca de su profesión ideal.\n",
    "\n",
    "Y a su vez sentimos que su principal beneficio es que es mucho mas facil trabajar con bases de datos que utilizan texto."
   ]
  },
  {
   "cell_type": "markdown",
   "metadata": {},
   "source": [
    "## Preguntas de interes"
   ]
  },
  {
   "cell_type": "markdown",
   "metadata": {},
   "source": [
    "- ¿Qué carrera universitaria se adapta mejor a mis deseos personales?\n",
    "- ¿Cuál de mis opciones de carreras a elegir me generara más ingresos salariales?\n"
   ]
  },
  {
   "cell_type": "markdown",
   "metadata": {},
   "source": [
    "## 1. Desarrollo"
   ]
  },
  {
   "cell_type": "markdown",
   "metadata": {},
   "source": [
    "- Visualizacion de los datos"
   ]
  },
  {
   "cell_type": "markdown",
   "metadata": {},
   "source": [
    "Comienzo visualizando los datos para revisar que columnas quiero quitar y cuales renombrar."
   ]
  },
  {
   "cell_type": "code",
   "execution_count": 5,
   "metadata": {},
   "outputs": [
    {
     "data": {
      "text/html": [
       "<div>\n",
       "<style scoped>\n",
       "    .dataframe tbody tr th:only-of-type {\n",
       "        vertical-align: middle;\n",
       "    }\n",
       "\n",
       "    .dataframe tbody tr th {\n",
       "        vertical-align: top;\n",
       "    }\n",
       "\n",
       "    .dataframe thead th {\n",
       "        text-align: right;\n",
       "    }\n",
       "</style>\n",
       "<table border=\"1\" class=\"dataframe\">\n",
       "  <thead>\n",
       "    <tr style=\"text-align: right;\">\n",
       "      <th></th>\n",
       "      <th>Undergraduate Major</th>\n",
       "      <th>Starting Median Salary</th>\n",
       "      <th>Mid-Career Median Salary</th>\n",
       "      <th>Percent change from Starting to Mid-Career Salary</th>\n",
       "      <th>Mid-Career 10th Percentile Salary</th>\n",
       "      <th>Mid-Career 25th Percentile Salary</th>\n",
       "      <th>Mid-Career 75th Percentile Salary</th>\n",
       "      <th>Mid-Career 90th Percentile Salary</th>\n",
       "      <th>Best University</th>\n",
       "    </tr>\n",
       "  </thead>\n",
       "  <tbody>\n",
       "    <tr>\n",
       "      <td>0</td>\n",
       "      <td>Accounting</td>\n",
       "      <td>46000.0</td>\n",
       "      <td>77100.0</td>\n",
       "      <td>67.6</td>\n",
       "      <td>42200.0</td>\n",
       "      <td>56100.0</td>\n",
       "      <td>108000.0</td>\n",
       "      <td>152000.0</td>\n",
       "      <td>State University of New York (SUNY) at Oneonta</td>\n",
       "    </tr>\n",
       "    <tr>\n",
       "      <td>1</td>\n",
       "      <td>Aerospace Engineering</td>\n",
       "      <td>57700.0</td>\n",
       "      <td>101000.0</td>\n",
       "      <td>75.0</td>\n",
       "      <td>64300.0</td>\n",
       "      <td>82100.0</td>\n",
       "      <td>127000.0</td>\n",
       "      <td>161000.0</td>\n",
       "      <td>Embry-Riddle Aeronautical University (ERAU)</td>\n",
       "    </tr>\n",
       "    <tr>\n",
       "      <td>2</td>\n",
       "      <td>Agriculture</td>\n",
       "      <td>42600.0</td>\n",
       "      <td>71900.0</td>\n",
       "      <td>68.8</td>\n",
       "      <td>36300.0</td>\n",
       "      <td>52100.0</td>\n",
       "      <td>96300.0</td>\n",
       "      <td>150000.0</td>\n",
       "      <td>University of Hawaii</td>\n",
       "    </tr>\n",
       "    <tr>\n",
       "      <td>3</td>\n",
       "      <td>Anthropology</td>\n",
       "      <td>36800.0</td>\n",
       "      <td>61500.0</td>\n",
       "      <td>67.1</td>\n",
       "      <td>33800.0</td>\n",
       "      <td>45500.0</td>\n",
       "      <td>89300.0</td>\n",
       "      <td>138000.0</td>\n",
       "      <td>Dartmouth College</td>\n",
       "    </tr>\n",
       "    <tr>\n",
       "      <td>4</td>\n",
       "      <td>Architecture</td>\n",
       "      <td>41600.0</td>\n",
       "      <td>76800.0</td>\n",
       "      <td>84.6</td>\n",
       "      <td>50600.0</td>\n",
       "      <td>62200.0</td>\n",
       "      <td>97000.0</td>\n",
       "      <td>136000.0</td>\n",
       "      <td>University of Richmond</td>\n",
       "    </tr>\n",
       "    <tr>\n",
       "      <td>5</td>\n",
       "      <td>Art History</td>\n",
       "      <td>35800.0</td>\n",
       "      <td>64900.0</td>\n",
       "      <td>81.3</td>\n",
       "      <td>28800.0</td>\n",
       "      <td>42200.0</td>\n",
       "      <td>87400.0</td>\n",
       "      <td>125000.0</td>\n",
       "      <td>Ursinus College</td>\n",
       "    </tr>\n",
       "    <tr>\n",
       "      <td>6</td>\n",
       "      <td>Biology</td>\n",
       "      <td>38800.0</td>\n",
       "      <td>64800.0</td>\n",
       "      <td>67.0</td>\n",
       "      <td>36900.0</td>\n",
       "      <td>47400.0</td>\n",
       "      <td>94500.0</td>\n",
       "      <td>135000.0</td>\n",
       "      <td>Princeton University</td>\n",
       "    </tr>\n",
       "    <tr>\n",
       "      <td>7</td>\n",
       "      <td>Business Management</td>\n",
       "      <td>43000.0</td>\n",
       "      <td>72100.0</td>\n",
       "      <td>67.7</td>\n",
       "      <td>38800.0</td>\n",
       "      <td>51500.0</td>\n",
       "      <td>102000.0</td>\n",
       "      <td>147000.0</td>\n",
       "      <td>University of Tennessee</td>\n",
       "    </tr>\n",
       "    <tr>\n",
       "      <td>8</td>\n",
       "      <td>Chemical Engineering</td>\n",
       "      <td>63200.0</td>\n",
       "      <td>107000.0</td>\n",
       "      <td>69.3</td>\n",
       "      <td>71900.0</td>\n",
       "      <td>87300.0</td>\n",
       "      <td>143000.0</td>\n",
       "      <td>194000.0</td>\n",
       "      <td>California Institute of Technology (CIT)</td>\n",
       "    </tr>\n",
       "    <tr>\n",
       "      <td>9</td>\n",
       "      <td>Chemistry</td>\n",
       "      <td>42600.0</td>\n",
       "      <td>79900.0</td>\n",
       "      <td>87.6</td>\n",
       "      <td>45300.0</td>\n",
       "      <td>60700.0</td>\n",
       "      <td>108000.0</td>\n",
       "      <td>148000.0</td>\n",
       "      <td>Yale University</td>\n",
       "    </tr>\n",
       "  </tbody>\n",
       "</table>\n",
       "</div>"
      ],
      "text/plain": [
       "     Undergraduate Major  Starting Median Salary  Mid-Career Median Salary  \\\n",
       "0             Accounting                 46000.0                   77100.0   \n",
       "1  Aerospace Engineering                 57700.0                  101000.0   \n",
       "2            Agriculture                 42600.0                   71900.0   \n",
       "3           Anthropology                 36800.0                   61500.0   \n",
       "4           Architecture                 41600.0                   76800.0   \n",
       "5            Art History                 35800.0                   64900.0   \n",
       "6                Biology                 38800.0                   64800.0   \n",
       "7    Business Management                 43000.0                   72100.0   \n",
       "8   Chemical Engineering                 63200.0                  107000.0   \n",
       "9              Chemistry                 42600.0                   79900.0   \n",
       "\n",
       "   Percent change from Starting to Mid-Career Salary  \\\n",
       "0                                               67.6   \n",
       "1                                               75.0   \n",
       "2                                               68.8   \n",
       "3                                               67.1   \n",
       "4                                               84.6   \n",
       "5                                               81.3   \n",
       "6                                               67.0   \n",
       "7                                               67.7   \n",
       "8                                               69.3   \n",
       "9                                               87.6   \n",
       "\n",
       "   Mid-Career 10th Percentile Salary  Mid-Career 25th Percentile Salary  \\\n",
       "0                            42200.0                            56100.0   \n",
       "1                            64300.0                            82100.0   \n",
       "2                            36300.0                            52100.0   \n",
       "3                            33800.0                            45500.0   \n",
       "4                            50600.0                            62200.0   \n",
       "5                            28800.0                            42200.0   \n",
       "6                            36900.0                            47400.0   \n",
       "7                            38800.0                            51500.0   \n",
       "8                            71900.0                            87300.0   \n",
       "9                            45300.0                            60700.0   \n",
       "\n",
       "   Mid-Career 75th Percentile Salary  Mid-Career 90th Percentile Salary  \\\n",
       "0                           108000.0                           152000.0   \n",
       "1                           127000.0                           161000.0   \n",
       "2                            96300.0                           150000.0   \n",
       "3                            89300.0                           138000.0   \n",
       "4                            97000.0                           136000.0   \n",
       "5                            87400.0                           125000.0   \n",
       "6                            94500.0                           135000.0   \n",
       "7                           102000.0                           147000.0   \n",
       "8                           143000.0                           194000.0   \n",
       "9                           108000.0                           148000.0   \n",
       "\n",
       "                                  Best University  \n",
       "0  State University of New York (SUNY) at Oneonta  \n",
       "1     Embry-Riddle Aeronautical University (ERAU)  \n",
       "2                            University of Hawaii  \n",
       "3                               Dartmouth College  \n",
       "4                          University of Richmond  \n",
       "5                                 Ursinus College  \n",
       "6                            Princeton University  \n",
       "7                         University of Tennessee  \n",
       "8        California Institute of Technology (CIT)  \n",
       "9                                 Yale University  "
      ]
     },
     "execution_count": 5,
     "metadata": {},
     "output_type": "execute_result"
    }
   ],
   "source": [
    "datos.head(10)"
   ]
  },
  {
   "cell_type": "markdown",
   "metadata": {},
   "source": [
    "- Eliminamos columnas no deseadas"
   ]
  },
  {
   "cell_type": "markdown",
   "metadata": {},
   "source": [
    "Decido remover las columnas de percentile que aparecen aqui, debido a que siento que es informacion que va de mas en nuestra base de datos, y es lo mismo con la de percent, con la informacion que tenemos sobre los sueldos restantes, consideramos suficiente."
   ]
  },
  {
   "cell_type": "code",
   "execution_count": 6,
   "metadata": {},
   "outputs": [],
   "source": [
    "datos1=datos.drop(['Percent change from Starting to Mid-Career Salary',\n",
    "       'Mid-Career 10th Percentile Salary',\n",
    "       'Mid-Career 25th Percentile Salary',\n",
    "       'Mid-Career 75th Percentile Salary'],axis=1)"
   ]
  },
  {
   "cell_type": "markdown",
   "metadata": {},
   "source": [
    "- Renombre de columnas"
   ]
  },
  {
   "cell_type": "markdown",
   "metadata": {},
   "source": [
    "Renombrare las columnas, solo cambiandoles el nombre al español para que sea mas sencillo para el aspirante visualizar bien la informacion y no confundirla.\n",
    "Y decido quedarme con estas columnas para darle la informacion al estudiante sobre la carrera, los salarios al inicio, a la mitad y al final, y a su vez su mejor opcion como universidad."
   ]
  },
  {
   "cell_type": "code",
   "execution_count": 7,
   "metadata": {},
   "outputs": [],
   "source": [
    "datos2=datos1.rename(columns={'Undergraduate Major': 'Carrera','Starting Median Salary':'Salario al inicio',\n",
    "       'Mid-Career Median Salary':'Salario a la mitad','Mid-Career 90th Percentile Salary':'Salario al graduarse',\n",
    "                              'Best University':'Mejor Universidad'})"
   ]
  },
  {
   "cell_type": "markdown",
   "metadata": {},
   "source": [
    "- Eliminacion de los datos nulos"
   ]
  },
  {
   "cell_type": "markdown",
   "metadata": {},
   "source": [
    "Eliminare los nulos en el caso de los salarios, para que asi le de informacion al aspirante que esta mas acertada y siento que es mejor eliminar la informacion sobre la carrera que tiene datos incompletos. "
   ]
  },
  {
   "cell_type": "code",
   "execution_count": 8,
   "metadata": {},
   "outputs": [],
   "source": [
    "datos3=datos2.dropna(subset=[\"Salario al inicio\",\"Salario a la mitad\",\n",
    "                             \"Salario al graduarse\"],axis=0)"
   ]
  },
  {
   "cell_type": "markdown",
   "metadata": {},
   "source": [
    "- Reacomodo de datos"
   ]
  },
  {
   "cell_type": "markdown",
   "metadata": {},
   "source": [
    "Me gustaria que mis datos esten acomodados en orden ascendente en el nombre de las carreras, como no se si todas estan en orden pondre un comando para que se acomoden en caso de no estarlo."
   ]
  },
  {
   "cell_type": "code",
   "execution_count": 9,
   "metadata": {
    "scrolled": true
   },
   "outputs": [
    {
     "data": {
      "text/html": [
       "<div>\n",
       "<style scoped>\n",
       "    .dataframe tbody tr th:only-of-type {\n",
       "        vertical-align: middle;\n",
       "    }\n",
       "\n",
       "    .dataframe tbody tr th {\n",
       "        vertical-align: top;\n",
       "    }\n",
       "\n",
       "    .dataframe thead th {\n",
       "        text-align: right;\n",
       "    }\n",
       "</style>\n",
       "<table border=\"1\" class=\"dataframe\">\n",
       "  <thead>\n",
       "    <tr style=\"text-align: right;\">\n",
       "      <th></th>\n",
       "      <th>Carrera</th>\n",
       "      <th>Salario al inicio</th>\n",
       "      <th>Salario a la mitad</th>\n",
       "      <th>Salario al graduarse</th>\n",
       "      <th>Mejor Universidad</th>\n",
       "    </tr>\n",
       "  </thead>\n",
       "  <tbody>\n",
       "    <tr>\n",
       "      <td>0</td>\n",
       "      <td>Accounting</td>\n",
       "      <td>46000.0</td>\n",
       "      <td>77100.0</td>\n",
       "      <td>152000.0</td>\n",
       "      <td>State University of New York (SUNY) at Oneonta</td>\n",
       "    </tr>\n",
       "    <tr>\n",
       "      <td>1</td>\n",
       "      <td>Aerospace Engineering</td>\n",
       "      <td>57700.0</td>\n",
       "      <td>101000.0</td>\n",
       "      <td>161000.0</td>\n",
       "      <td>Embry-Riddle Aeronautical University (ERAU)</td>\n",
       "    </tr>\n",
       "    <tr>\n",
       "      <td>2</td>\n",
       "      <td>Agriculture</td>\n",
       "      <td>42600.0</td>\n",
       "      <td>71900.0</td>\n",
       "      <td>150000.0</td>\n",
       "      <td>University of Hawaii</td>\n",
       "    </tr>\n",
       "    <tr>\n",
       "      <td>3</td>\n",
       "      <td>Anthropology</td>\n",
       "      <td>36800.0</td>\n",
       "      <td>61500.0</td>\n",
       "      <td>138000.0</td>\n",
       "      <td>Dartmouth College</td>\n",
       "    </tr>\n",
       "    <tr>\n",
       "      <td>4</td>\n",
       "      <td>Architecture</td>\n",
       "      <td>41600.0</td>\n",
       "      <td>76800.0</td>\n",
       "      <td>136000.0</td>\n",
       "      <td>University of Richmond</td>\n",
       "    </tr>\n",
       "    <tr>\n",
       "      <td>5</td>\n",
       "      <td>Art History</td>\n",
       "      <td>35800.0</td>\n",
       "      <td>64900.0</td>\n",
       "      <td>125000.0</td>\n",
       "      <td>Ursinus College</td>\n",
       "    </tr>\n",
       "    <tr>\n",
       "      <td>6</td>\n",
       "      <td>Biology</td>\n",
       "      <td>38800.0</td>\n",
       "      <td>64800.0</td>\n",
       "      <td>135000.0</td>\n",
       "      <td>Princeton University</td>\n",
       "    </tr>\n",
       "    <tr>\n",
       "      <td>7</td>\n",
       "      <td>Business Management</td>\n",
       "      <td>43000.0</td>\n",
       "      <td>72100.0</td>\n",
       "      <td>147000.0</td>\n",
       "      <td>University of Tennessee</td>\n",
       "    </tr>\n",
       "    <tr>\n",
       "      <td>8</td>\n",
       "      <td>Chemical Engineering</td>\n",
       "      <td>63200.0</td>\n",
       "      <td>107000.0</td>\n",
       "      <td>194000.0</td>\n",
       "      <td>California Institute of Technology (CIT)</td>\n",
       "    </tr>\n",
       "    <tr>\n",
       "      <td>9</td>\n",
       "      <td>Chemistry</td>\n",
       "      <td>42600.0</td>\n",
       "      <td>79900.0</td>\n",
       "      <td>148000.0</td>\n",
       "      <td>Yale University</td>\n",
       "    </tr>\n",
       "    <tr>\n",
       "      <td>10</td>\n",
       "      <td>Civil Engineering</td>\n",
       "      <td>53900.0</td>\n",
       "      <td>90500.0</td>\n",
       "      <td>148000.0</td>\n",
       "      <td>Colorado School of Mines</td>\n",
       "    </tr>\n",
       "    <tr>\n",
       "      <td>11</td>\n",
       "      <td>Communications</td>\n",
       "      <td>38100.0</td>\n",
       "      <td>70000.0</td>\n",
       "      <td>143000.0</td>\n",
       "      <td>University of North Carolina at Charlotte (UNCC)</td>\n",
       "    </tr>\n",
       "    <tr>\n",
       "      <td>12</td>\n",
       "      <td>Computer Engineering</td>\n",
       "      <td>61400.0</td>\n",
       "      <td>105000.0</td>\n",
       "      <td>162000.0</td>\n",
       "      <td>Massachusetts Institute of Technology (MIT)</td>\n",
       "    </tr>\n",
       "    <tr>\n",
       "      <td>13</td>\n",
       "      <td>Computer Science</td>\n",
       "      <td>55900.0</td>\n",
       "      <td>95500.0</td>\n",
       "      <td>154000.0</td>\n",
       "      <td>Stevens Institute of Technology</td>\n",
       "    </tr>\n",
       "    <tr>\n",
       "      <td>14</td>\n",
       "      <td>Construction</td>\n",
       "      <td>53700.0</td>\n",
       "      <td>88900.0</td>\n",
       "      <td>171000.0</td>\n",
       "      <td>Cooper Union</td>\n",
       "    </tr>\n",
       "    <tr>\n",
       "      <td>15</td>\n",
       "      <td>Criminal Justice</td>\n",
       "      <td>35000.0</td>\n",
       "      <td>56300.0</td>\n",
       "      <td>107000.0</td>\n",
       "      <td>Cal Poly San Luis Obispo</td>\n",
       "    </tr>\n",
       "    <tr>\n",
       "      <td>16</td>\n",
       "      <td>Drama</td>\n",
       "      <td>35900.0</td>\n",
       "      <td>56900.0</td>\n",
       "      <td>153000.0</td>\n",
       "      <td>Wesleyan University (Middletown, Connecticut)</td>\n",
       "    </tr>\n",
       "    <tr>\n",
       "      <td>17</td>\n",
       "      <td>Economics</td>\n",
       "      <td>50100.0</td>\n",
       "      <td>98600.0</td>\n",
       "      <td>210000.0</td>\n",
       "      <td>Harvard University</td>\n",
       "    </tr>\n",
       "    <tr>\n",
       "      <td>18</td>\n",
       "      <td>Education</td>\n",
       "      <td>34900.0</td>\n",
       "      <td>52000.0</td>\n",
       "      <td>102000.0</td>\n",
       "      <td>Western Michigan University (WMU)</td>\n",
       "    </tr>\n",
       "    <tr>\n",
       "      <td>19</td>\n",
       "      <td>Electrical Engineering</td>\n",
       "      <td>60900.0</td>\n",
       "      <td>103000.0</td>\n",
       "      <td>168000.0</td>\n",
       "      <td>Illinois Institute of Technology (IIT)</td>\n",
       "    </tr>\n",
       "    <tr>\n",
       "      <td>20</td>\n",
       "      <td>English</td>\n",
       "      <td>38000.0</td>\n",
       "      <td>64700.0</td>\n",
       "      <td>133000.0</td>\n",
       "      <td>University of California, Davis</td>\n",
       "    </tr>\n",
       "    <tr>\n",
       "      <td>21</td>\n",
       "      <td>Film</td>\n",
       "      <td>37900.0</td>\n",
       "      <td>68500.0</td>\n",
       "      <td>136000.0</td>\n",
       "      <td>Colby College</td>\n",
       "    </tr>\n",
       "    <tr>\n",
       "      <td>22</td>\n",
       "      <td>Finance</td>\n",
       "      <td>47900.0</td>\n",
       "      <td>88300.0</td>\n",
       "      <td>195000.0</td>\n",
       "      <td>Cornell University</td>\n",
       "    </tr>\n",
       "    <tr>\n",
       "      <td>23</td>\n",
       "      <td>Forestry</td>\n",
       "      <td>39100.0</td>\n",
       "      <td>62600.0</td>\n",
       "      <td>111000.0</td>\n",
       "      <td>Idaho State University</td>\n",
       "    </tr>\n",
       "    <tr>\n",
       "      <td>24</td>\n",
       "      <td>Geography</td>\n",
       "      <td>41200.0</td>\n",
       "      <td>65500.0</td>\n",
       "      <td>132000.0</td>\n",
       "      <td>Brown University</td>\n",
       "    </tr>\n",
       "    <tr>\n",
       "      <td>25</td>\n",
       "      <td>Geology</td>\n",
       "      <td>43500.0</td>\n",
       "      <td>79500.0</td>\n",
       "      <td>156000.0</td>\n",
       "      <td>Columbia University</td>\n",
       "    </tr>\n",
       "    <tr>\n",
       "      <td>26</td>\n",
       "      <td>Graphic Design</td>\n",
       "      <td>35700.0</td>\n",
       "      <td>59800.0</td>\n",
       "      <td>112000.0</td>\n",
       "      <td>Fitchburg State College</td>\n",
       "    </tr>\n",
       "    <tr>\n",
       "      <td>27</td>\n",
       "      <td>Health Care Administration</td>\n",
       "      <td>38800.0</td>\n",
       "      <td>60600.0</td>\n",
       "      <td>101000.0</td>\n",
       "      <td>University Of Maine</td>\n",
       "    </tr>\n",
       "    <tr>\n",
       "      <td>28</td>\n",
       "      <td>History</td>\n",
       "      <td>39200.0</td>\n",
       "      <td>71000.0</td>\n",
       "      <td>149000.0</td>\n",
       "      <td>University of Montana</td>\n",
       "    </tr>\n",
       "    <tr>\n",
       "      <td>29</td>\n",
       "      <td>Hospitality &amp; Tourism</td>\n",
       "      <td>37800.0</td>\n",
       "      <td>57500.0</td>\n",
       "      <td>124000.0</td>\n",
       "      <td>University of South Carolina</td>\n",
       "    </tr>\n",
       "    <tr>\n",
       "      <td>30</td>\n",
       "      <td>Industrial Engineering</td>\n",
       "      <td>57700.0</td>\n",
       "      <td>94700.0</td>\n",
       "      <td>173000.0</td>\n",
       "      <td>Carnegie Mellon University (CMU)</td>\n",
       "    </tr>\n",
       "    <tr>\n",
       "      <td>31</td>\n",
       "      <td>Information Technology (IT)</td>\n",
       "      <td>49100.0</td>\n",
       "      <td>74800.0</td>\n",
       "      <td>129000.0</td>\n",
       "      <td>New Mexico Institute of Mining and Technology ...</td>\n",
       "    </tr>\n",
       "    <tr>\n",
       "      <td>32</td>\n",
       "      <td>Interior Design</td>\n",
       "      <td>36100.0</td>\n",
       "      <td>53200.0</td>\n",
       "      <td>107000.0</td>\n",
       "      <td>Whitman College</td>\n",
       "    </tr>\n",
       "    <tr>\n",
       "      <td>33</td>\n",
       "      <td>International Relations</td>\n",
       "      <td>40900.0</td>\n",
       "      <td>80900.0</td>\n",
       "      <td>157000.0</td>\n",
       "      <td>St. Cloud State University</td>\n",
       "    </tr>\n",
       "    <tr>\n",
       "      <td>34</td>\n",
       "      <td>Journalism</td>\n",
       "      <td>35600.0</td>\n",
       "      <td>66700.0</td>\n",
       "      <td>145000.0</td>\n",
       "      <td>Florida Atlantic University (FAU)</td>\n",
       "    </tr>\n",
       "    <tr>\n",
       "      <td>35</td>\n",
       "      <td>Management Information Systems (MIS)</td>\n",
       "      <td>49200.0</td>\n",
       "      <td>82300.0</td>\n",
       "      <td>146000.0</td>\n",
       "      <td>University of Akron</td>\n",
       "    </tr>\n",
       "    <tr>\n",
       "      <td>36</td>\n",
       "      <td>Marketing</td>\n",
       "      <td>40800.0</td>\n",
       "      <td>79600.0</td>\n",
       "      <td>175000.0</td>\n",
       "      <td>University of Wisconsin (UW) - La Crosse</td>\n",
       "    </tr>\n",
       "    <tr>\n",
       "      <td>37</td>\n",
       "      <td>Math</td>\n",
       "      <td>45400.0</td>\n",
       "      <td>92400.0</td>\n",
       "      <td>183000.0</td>\n",
       "      <td>Dartmouth College</td>\n",
       "    </tr>\n",
       "    <tr>\n",
       "      <td>38</td>\n",
       "      <td>Mechanical Engineering</td>\n",
       "      <td>57900.0</td>\n",
       "      <td>93600.0</td>\n",
       "      <td>163000.0</td>\n",
       "      <td>Rochester Institute of Technology (RIT)</td>\n",
       "    </tr>\n",
       "    <tr>\n",
       "      <td>39</td>\n",
       "      <td>Music</td>\n",
       "      <td>35900.0</td>\n",
       "      <td>55000.0</td>\n",
       "      <td>134000.0</td>\n",
       "      <td>Evergreen State College</td>\n",
       "    </tr>\n",
       "    <tr>\n",
       "      <td>40</td>\n",
       "      <td>Nursing</td>\n",
       "      <td>54200.0</td>\n",
       "      <td>67000.0</td>\n",
       "      <td>98300.0</td>\n",
       "      <td>Princeton University</td>\n",
       "    </tr>\n",
       "    <tr>\n",
       "      <td>41</td>\n",
       "      <td>Nutrition</td>\n",
       "      <td>39900.0</td>\n",
       "      <td>55300.0</td>\n",
       "      <td>99200.0</td>\n",
       "      <td>East Carolina University (ECU)</td>\n",
       "    </tr>\n",
       "    <tr>\n",
       "      <td>42</td>\n",
       "      <td>Philosophy</td>\n",
       "      <td>39900.0</td>\n",
       "      <td>81200.0</td>\n",
       "      <td>168000.0</td>\n",
       "      <td>University of Missouri - St. Louis (UMSL)</td>\n",
       "    </tr>\n",
       "    <tr>\n",
       "      <td>43</td>\n",
       "      <td>Physician Assistant</td>\n",
       "      <td>74300.0</td>\n",
       "      <td>91700.0</td>\n",
       "      <td>124000.0</td>\n",
       "      <td>Yale University</td>\n",
       "    </tr>\n",
       "    <tr>\n",
       "      <td>44</td>\n",
       "      <td>Physics</td>\n",
       "      <td>50300.0</td>\n",
       "      <td>97300.0</td>\n",
       "      <td>178000.0</td>\n",
       "      <td>Harvard University</td>\n",
       "    </tr>\n",
       "    <tr>\n",
       "      <td>45</td>\n",
       "      <td>Political Science</td>\n",
       "      <td>40800.0</td>\n",
       "      <td>78200.0</td>\n",
       "      <td>168000.0</td>\n",
       "      <td>University of Pennsylvania</td>\n",
       "    </tr>\n",
       "    <tr>\n",
       "      <td>46</td>\n",
       "      <td>Psychology</td>\n",
       "      <td>35900.0</td>\n",
       "      <td>60400.0</td>\n",
       "      <td>127000.0</td>\n",
       "      <td>State University of New York (SUNY) at Fredonia</td>\n",
       "    </tr>\n",
       "    <tr>\n",
       "      <td>47</td>\n",
       "      <td>Religion</td>\n",
       "      <td>34100.0</td>\n",
       "      <td>52000.0</td>\n",
       "      <td>96400.0</td>\n",
       "      <td>University of North Carolina at Wilmington (UNCW)</td>\n",
       "    </tr>\n",
       "    <tr>\n",
       "      <td>48</td>\n",
       "      <td>Sociology</td>\n",
       "      <td>36500.0</td>\n",
       "      <td>58200.0</td>\n",
       "      <td>118000.0</td>\n",
       "      <td>Tarleton State University (TSU)</td>\n",
       "    </tr>\n",
       "    <tr>\n",
       "      <td>49</td>\n",
       "      <td>Spanish</td>\n",
       "      <td>34000.0</td>\n",
       "      <td>53100.0</td>\n",
       "      <td>96400.0</td>\n",
       "      <td>Montana State University - Billings</td>\n",
       "    </tr>\n",
       "  </tbody>\n",
       "</table>\n",
       "</div>"
      ],
      "text/plain": [
       "                                 Carrera  Salario al inicio  \\\n",
       "0                             Accounting            46000.0   \n",
       "1                  Aerospace Engineering            57700.0   \n",
       "2                            Agriculture            42600.0   \n",
       "3                           Anthropology            36800.0   \n",
       "4                           Architecture            41600.0   \n",
       "5                            Art History            35800.0   \n",
       "6                                Biology            38800.0   \n",
       "7                    Business Management            43000.0   \n",
       "8                   Chemical Engineering            63200.0   \n",
       "9                              Chemistry            42600.0   \n",
       "10                     Civil Engineering            53900.0   \n",
       "11                        Communications            38100.0   \n",
       "12                  Computer Engineering            61400.0   \n",
       "13                      Computer Science            55900.0   \n",
       "14                          Construction            53700.0   \n",
       "15                      Criminal Justice            35000.0   \n",
       "16                                 Drama            35900.0   \n",
       "17                             Economics            50100.0   \n",
       "18                             Education            34900.0   \n",
       "19                Electrical Engineering            60900.0   \n",
       "20                               English            38000.0   \n",
       "21                                  Film            37900.0   \n",
       "22                               Finance            47900.0   \n",
       "23                              Forestry            39100.0   \n",
       "24                             Geography            41200.0   \n",
       "25                               Geology            43500.0   \n",
       "26                        Graphic Design            35700.0   \n",
       "27            Health Care Administration            38800.0   \n",
       "28                               History            39200.0   \n",
       "29                 Hospitality & Tourism            37800.0   \n",
       "30                Industrial Engineering            57700.0   \n",
       "31           Information Technology (IT)            49100.0   \n",
       "32                       Interior Design            36100.0   \n",
       "33               International Relations            40900.0   \n",
       "34                            Journalism            35600.0   \n",
       "35  Management Information Systems (MIS)            49200.0   \n",
       "36                             Marketing            40800.0   \n",
       "37                                  Math            45400.0   \n",
       "38                Mechanical Engineering            57900.0   \n",
       "39                                 Music            35900.0   \n",
       "40                               Nursing            54200.0   \n",
       "41                             Nutrition            39900.0   \n",
       "42                            Philosophy            39900.0   \n",
       "43                   Physician Assistant            74300.0   \n",
       "44                               Physics            50300.0   \n",
       "45                     Political Science            40800.0   \n",
       "46                            Psychology            35900.0   \n",
       "47                              Religion            34100.0   \n",
       "48                             Sociology            36500.0   \n",
       "49                               Spanish            34000.0   \n",
       "\n",
       "    Salario a la mitad  Salario al graduarse  \\\n",
       "0              77100.0              152000.0   \n",
       "1             101000.0              161000.0   \n",
       "2              71900.0              150000.0   \n",
       "3              61500.0              138000.0   \n",
       "4              76800.0              136000.0   \n",
       "5              64900.0              125000.0   \n",
       "6              64800.0              135000.0   \n",
       "7              72100.0              147000.0   \n",
       "8             107000.0              194000.0   \n",
       "9              79900.0              148000.0   \n",
       "10             90500.0              148000.0   \n",
       "11             70000.0              143000.0   \n",
       "12            105000.0              162000.0   \n",
       "13             95500.0              154000.0   \n",
       "14             88900.0              171000.0   \n",
       "15             56300.0              107000.0   \n",
       "16             56900.0              153000.0   \n",
       "17             98600.0              210000.0   \n",
       "18             52000.0              102000.0   \n",
       "19            103000.0              168000.0   \n",
       "20             64700.0              133000.0   \n",
       "21             68500.0              136000.0   \n",
       "22             88300.0              195000.0   \n",
       "23             62600.0              111000.0   \n",
       "24             65500.0              132000.0   \n",
       "25             79500.0              156000.0   \n",
       "26             59800.0              112000.0   \n",
       "27             60600.0              101000.0   \n",
       "28             71000.0              149000.0   \n",
       "29             57500.0              124000.0   \n",
       "30             94700.0              173000.0   \n",
       "31             74800.0              129000.0   \n",
       "32             53200.0              107000.0   \n",
       "33             80900.0              157000.0   \n",
       "34             66700.0              145000.0   \n",
       "35             82300.0              146000.0   \n",
       "36             79600.0              175000.0   \n",
       "37             92400.0              183000.0   \n",
       "38             93600.0              163000.0   \n",
       "39             55000.0              134000.0   \n",
       "40             67000.0               98300.0   \n",
       "41             55300.0               99200.0   \n",
       "42             81200.0              168000.0   \n",
       "43             91700.0              124000.0   \n",
       "44             97300.0              178000.0   \n",
       "45             78200.0              168000.0   \n",
       "46             60400.0              127000.0   \n",
       "47             52000.0               96400.0   \n",
       "48             58200.0              118000.0   \n",
       "49             53100.0               96400.0   \n",
       "\n",
       "                                    Mejor Universidad  \n",
       "0      State University of New York (SUNY) at Oneonta  \n",
       "1         Embry-Riddle Aeronautical University (ERAU)  \n",
       "2                                University of Hawaii  \n",
       "3                                   Dartmouth College  \n",
       "4                              University of Richmond  \n",
       "5                                     Ursinus College  \n",
       "6                                Princeton University  \n",
       "7                             University of Tennessee  \n",
       "8            California Institute of Technology (CIT)  \n",
       "9                                     Yale University  \n",
       "10                           Colorado School of Mines  \n",
       "11   University of North Carolina at Charlotte (UNCC)  \n",
       "12        Massachusetts Institute of Technology (MIT)  \n",
       "13                    Stevens Institute of Technology  \n",
       "14                                       Cooper Union  \n",
       "15                           Cal Poly San Luis Obispo  \n",
       "16      Wesleyan University (Middletown, Connecticut)  \n",
       "17                                 Harvard University  \n",
       "18                  Western Michigan University (WMU)  \n",
       "19             Illinois Institute of Technology (IIT)  \n",
       "20                    University of California, Davis  \n",
       "21                                      Colby College  \n",
       "22                                 Cornell University  \n",
       "23                             Idaho State University  \n",
       "24                                   Brown University  \n",
       "25                                Columbia University  \n",
       "26                            Fitchburg State College  \n",
       "27                                University Of Maine  \n",
       "28                              University of Montana  \n",
       "29                       University of South Carolina  \n",
       "30                   Carnegie Mellon University (CMU)  \n",
       "31  New Mexico Institute of Mining and Technology ...  \n",
       "32                                    Whitman College  \n",
       "33                         St. Cloud State University  \n",
       "34                  Florida Atlantic University (FAU)  \n",
       "35                                University of Akron  \n",
       "36           University of Wisconsin (UW) - La Crosse  \n",
       "37                                  Dartmouth College  \n",
       "38            Rochester Institute of Technology (RIT)  \n",
       "39                            Evergreen State College  \n",
       "40                               Princeton University  \n",
       "41                     East Carolina University (ECU)  \n",
       "42          University of Missouri - St. Louis (UMSL)  \n",
       "43                                    Yale University  \n",
       "44                                 Harvard University  \n",
       "45                         University of Pennsylvania  \n",
       "46    State University of New York (SUNY) at Fredonia  \n",
       "47  University of North Carolina at Wilmington (UNCW)  \n",
       "48                    Tarleton State University (TSU)  \n",
       "49                Montana State University - Billings  "
      ]
     },
     "execution_count": 9,
     "metadata": {},
     "output_type": "execute_result"
    }
   ],
   "source": [
    "datos3.sort_values(by=['Carrera'],ascending=[True])"
   ]
  },
  {
   "cell_type": "markdown",
   "metadata": {},
   "source": [
    "- Guardar la base de datos"
   ]
  },
  {
   "cell_type": "markdown",
   "metadata": {},
   "source": [
    "Guardaremos la base de datos en un nuevo archivo, para facilitar el manejo de la base de datos."
   ]
  },
  {
   "cell_type": "code",
   "execution_count": 10,
   "metadata": {
    "scrolled": true
   },
   "outputs": [],
   "source": [
    "Nuevo=\"carreras_nuevo.csv\"\n",
    "datos3.to_csv(Nuevo)"
   ]
  },
  {
   "cell_type": "code",
   "execution_count": 11,
   "metadata": {},
   "outputs": [],
   "source": [
    "carr= pd.read_csv(\"carreras_nuevo.csv\")"
   ]
  },
  {
   "cell_type": "markdown",
   "metadata": {},
   "source": [
    "## 2. Estadistica de los datos"
   ]
  },
  {
   "cell_type": "markdown",
   "metadata": {},
   "source": [
    "**Con respecto a la pregunta de interes numero dos: \n",
    "  ¿Cuál de mis opciones de carreras a elegir me generara más ingresos salariales?**\n",
    "  \n",
    "  Utilizaremos las columnas Salario al inicio, Salario a la mitad y Salario al graduarse. Esto con el fin de saber como se comporta la informacion de estas 3 columnas con respecto a sus carreras universitarias.\n",
    "  "
   ]
  },
  {
   "cell_type": "markdown",
   "metadata": {},
   "source": [
    "- El **minimo** del Salario al **inicio**.\n",
    "\n",
    "Para saber cual es el minimo que un estudiante que acaba de ingresar a la universidad puede ganar, y asi poder tomar este numero en cuenta al momento de escoger la carrera universitaria."
   ]
  },
  {
   "cell_type": "code",
   "execution_count": 12,
   "metadata": {},
   "outputs": [
    {
     "data": {
      "text/plain": [
       "34000.0"
      ]
     },
     "execution_count": 12,
     "metadata": {},
     "output_type": "execute_result"
    }
   ],
   "source": [
    "carr['Salario al inicio'].min()"
   ]
  },
  {
   "cell_type": "markdown",
   "metadata": {},
   "source": [
    "- El **minimo** del salario al **graduarse**.\n",
    "\n",
    "Sirve a su vez para que el usuario contemple sus opciones, ya que podria pensar que tiene un salario que se aproxime al minimo y el por desinformacion piense que es mucho."
   ]
  },
  {
   "cell_type": "code",
   "execution_count": 13,
   "metadata": {},
   "outputs": [
    {
     "data": {
      "text/plain": [
       "96400.0"
      ]
     },
     "execution_count": 13,
     "metadata": {},
     "output_type": "execute_result"
    }
   ],
   "source": [
    "carr['Salario al graduarse'].min()"
   ]
  },
  {
   "cell_type": "markdown",
   "metadata": {},
   "source": [
    "- El **maximo** del Salario al **inicio**.\n",
    "\n",
    "Se decidio utilizar el maximo sueldo cuando se ingresa a la universidad, para que tambien los aspirantes contemplen el sueldo a un inicio por si quieren comenzar a trabajar desde que entren a la universidad."
   ]
  },
  {
   "cell_type": "code",
   "execution_count": 14,
   "metadata": {},
   "outputs": [
    {
     "data": {
      "text/plain": [
       "74300.0"
      ]
     },
     "execution_count": 14,
     "metadata": {},
     "output_type": "execute_result"
    }
   ],
   "source": [
    "carr['Salario al inicio'].max()"
   ]
  },
  {
   "cell_type": "markdown",
   "metadata": {},
   "source": [
    "**Este numero de arriba me muestra la gran diferencia que hay entre el minimo y el maximo del salario al inicio**"
   ]
  },
  {
   "cell_type": "markdown",
   "metadata": {},
   "source": [
    "- El **maximo** del Salario al **graduarse**. \n",
    "\n",
    "Agregamos el maximo del salario al graduarse para que los aspirantes tengas mas claras sus metas, por ejemplo si al ingresar a la universidad no hay mucha diferencia con el sueldo del fina, o si lo consideran muy bajo, tambien tenerlo como opcion."
   ]
  },
  {
   "cell_type": "code",
   "execution_count": 15,
   "metadata": {},
   "outputs": [
    {
     "data": {
      "text/plain": [
       "210000.0"
      ]
     },
     "execution_count": 15,
     "metadata": {},
     "output_type": "execute_result"
    }
   ],
   "source": [
    "carr['Salario al graduarse'].max()"
   ]
  },
  {
   "cell_type": "markdown",
   "metadata": {},
   "source": [
    "**El numero de arriba es mas del doble del minimo de sueldo a graduarse**"
   ]
  },
  {
   "cell_type": "markdown",
   "metadata": {},
   "source": [
    "- El **promedio** del Salario al **inicio**.\n",
    "\n",
    "El promedio del salario que obtiene un recien ingresado , para considerar si su carrera tiene un salario, arriba o abajo del promedio, y tomarlo a consideracion."
   ]
  },
  {
   "cell_type": "code",
   "execution_count": 120,
   "metadata": {},
   "outputs": [
    {
     "data": {
      "text/plain": [
       "44310.0"
      ]
     },
     "execution_count": 120,
     "metadata": {},
     "output_type": "execute_result"
    }
   ],
   "source": [
    "carr['Salario al inicio'].mean()"
   ]
  },
  {
   "cell_type": "markdown",
   "metadata": {},
   "source": [
    "**La mayoria de los salario al inicio oscila entre este numero**"
   ]
  },
  {
   "cell_type": "markdown",
   "metadata": {},
   "source": [
    "- El **promedio** del Salario al **graduarse**. \n",
    "\n",
    "A su vez el promedio del salario que obtiene un recien egresado , para considerar si su carrera tiene un salario, arriba o abajo del promedio."
   ]
  },
  {
   "cell_type": "code",
   "execution_count": 16,
   "metadata": {},
   "outputs": [
    {
     "data": {
      "text/plain": [
       "142766.0"
      ]
     },
     "execution_count": 16,
     "metadata": {},
     "output_type": "execute_result"
    }
   ],
   "source": [
    "carr['Salario al graduarse'].mean()"
   ]
  },
  {
   "cell_type": "markdown",
   "metadata": {},
   "source": [
    "**La mayoria de los salarios al graduarse oscila entre este numero**"
   ]
  },
  {
   "cell_type": "markdown",
   "metadata": {},
   "source": [
    "## Graficas"
   ]
  },
  {
   "cell_type": "markdown",
   "metadata": {},
   "source": [
    "- Para analizar nuestros resultados, revisaremos la cantidad del salario a ganar al iniciar la carrera en gráficas"
   ]
  },
  {
   "cell_type": "code",
   "execution_count": 32,
   "metadata": {},
   "outputs": [
    {
     "data": {
      "text/plain": [
       "<matplotlib.axes._subplots.AxesSubplot at 0x1e403234f48>"
      ]
     },
     "execution_count": 32,
     "metadata": {},
     "output_type": "execute_result"
    },
    {
     "data": {
      "image/png": "[encoded data removed]",
      "text/plain": [
       "<Figure size 432x288 with 1 Axes>"
      ]
     },
     "metadata": {
      "needs_background": "light"
     },
     "output_type": "display_data"
    }
   ],
   "source": [
    "carr['Salario al inicio'].plot.hist()"
   ]
  },
  {
   "cell_type": "markdown",
   "metadata": {},
   "source": [
    "El menor rango de salario al inicio de la carrera se encuentra entre 33000 y 39000 y la mayor cantidad a ganar es menos de 75000."
   ]
  },
  {
   "cell_type": "markdown",
   "metadata": {},
   "source": [
    "**La cantidad que más se gana dependiendo las estadísticas al inicio de la carrera está entre 35700 y 36000 aproximadamente.**"
   ]
  },
  {
   "cell_type": "markdown",
   "metadata": {},
   "source": [
    "- **Ahora analizaremos la cantidad del salario a ganar al terminar la carrera**"
   ]
  },
  {
   "cell_type": "code",
   "execution_count": 40,
   "metadata": {},
   "outputs": [
    {
     "data": {
      "text/plain": [
       "<matplotlib.axes._subplots.AxesSubplot at 0x1e4033d5708>"
      ]
     },
     "execution_count": 40,
     "metadata": {},
     "output_type": "execute_result"
    },
    {
     "data": {
      "image/png": "[encoded data removed]",
      "text/plain": [
       "<Figure size 432x288 with 1 Axes>"
      ]
     },
     "metadata": {
      "needs_background": "light"
     },
     "output_type": "display_data"
    }
   ],
   "source": [
    "carr['Salario al graduarse'].plot.hist()"
   ]
  },
  {
   "cell_type": "markdown",
   "metadata": {},
   "source": [
    "El menor rango de salario al graduarse de la carrera se encuentra entre 95000 y 110000 y la mayor cantidad a ganar es más de 200000."
   ]
  },
  {
   "cell_type": "markdown",
   "metadata": {},
   "source": [
    "**La cantidad que más se gana dependiendo las estadísticas al graduarse de la carrera está entre entre 140200 y 150000**"
   ]
  },
  {
   "cell_type": "code",
   "execution_count": 48,
   "metadata": {},
   "outputs": [],
   "source": [
    "import seaborn as sns"
   ]
  },
  {
   "cell_type": "markdown",
   "metadata": {},
   "source": [
    "Importamos la libreria para poder utilizar la grafica de boxplot"
   ]
  },
  {
   "cell_type": "code",
   "execution_count": 50,
   "metadata": {},
   "outputs": [
    {
     "data": {
      "text/plain": [
       "<matplotlib.axes._subplots.AxesSubplot at 0x1e403452a48>"
      ]
     },
     "execution_count": 50,
     "metadata": {},
     "output_type": "execute_result"
    },
    {
     "data": {
      "image/png": "[encoded data removed]",
      "text/plain": [
       "<Figure size 432x288 with 1 Axes>"
      ]
     },
     "metadata": {
      "needs_background": "light"
     },
     "output_type": "display_data"
    }
   ],
   "source": [
    "df=carr[carr.Carrera.isin(carr.Carrera.value_counts().head(3).index)]\n",
    "\n",
    "sns.boxplot(\n",
    "  x='Carrera',\n",
    "  y='Salario al inicio',\n",
    "   data=df\n",
    " )"
   ]
  },
  {
   "cell_type": "markdown",
   "metadata": {},
   "source": [
    "Si al usuario le arrojan las 3 carreras como su mejor opcion, mediante esta grafica podrá ver lo que podrá ganar al graduarse de la carrera, y podrá ayudarle a elegir su mejor opción.\n",
    "\n",
    "Así podrá ayudar a responder la pregunta **¿Cuál de mis opciones de carreras a elegir me generara más ingresos salariales?**"
   ]
  },
  {
   "cell_type": "code",
   "execution_count": 28,
   "metadata": {},
   "outputs": [
    {
     "data": {
      "text/plain": [
       "<matplotlib.axes._subplots.AxesSubplot at 0x1e401175b48>"
      ]
     },
     "execution_count": 28,
     "metadata": {},
     "output_type": "execute_result"
    },
    {
     "data": {
      "image/png": "[encoded data removed]",
      "text/plain": [
       "<Figure size 432x288 with 1 Axes>"
      ]
     },
     "metadata": {
      "needs_background": "light"
     },
     "output_type": "display_data"
    }
   ],
   "source": [
    "df=carr[carr.Carrera.isin(carr.Carrera.value_counts().head(3).index)]\n",
    "\n",
    "sns.boxplot(\n",
    "  x='Carrera',\n",
    "  y='Salario al graduarse',\n",
    "   data=df\n",
    " )"
   ]
  },
  {
   "cell_type": "markdown",
   "metadata": {},
   "source": [
    "De los resultados anteriores, mediante la grafica podemos ver lo que se gana al inicio de la carrera y que el usuario compare los valores y decida una opcion adecuada."
   ]
  },
  {
   "cell_type": "markdown",
   "metadata": {},
   "source": [
    "## Conclusiones"
   ]
  },
  {
   "cell_type": "markdown",
   "metadata": {},
   "source": [
    "Gracias al análisis antes realizado podemos observar las variaciones de los ingresos que podemos adquirir, al arrojarnos las 3 mejores opciones podrá el usuario decidir la opción que más le guste al mostrarle los salarios que podrá ganar al inicio y al graduarse de la carrera."
   ]
  },
  {
   "cell_type": "code",
   "execution_count": null,
   "metadata": {},
   "outputs": [],
   "source": []
  }
 ],
 "metadata": {
  "kernelspec": {
   "display_name": "Python 3",
   "language": "python",
   "name": "python3"
  },
  "language_info": {
   "codemirror_mode": {
    "name": "ipython",
    "version": 3
   },
   "file_extension": ".py",
   "mimetype": "text/x-python",
   "name": "python",
   "nbconvert_exporter": "python",
   "pygments_lexer": "ipython3",
   "version": "3.7.4"
  }
 },
 "nbformat": 4,
 "nbformat_minor": 2
}
