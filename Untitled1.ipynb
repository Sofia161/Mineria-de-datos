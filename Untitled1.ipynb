{
 "cells": [
  {
   "cell_type": "code",
   "execution_count": 3,
   "metadata": {},
   "outputs": [
    {
     "name": "stdout",
     "output_type": "stream",
     "text": [
      "Programa para calcular el soporte y la confianza de los siguientes datos:\n"
     ]
    }
   ],
   "source": [
    "#Tecnica de asociacion\n",
    "print(\"Programa para calcular el soporte y la confianza de los siguientes datos:\")\n",
    "letras={1:\"A\",2:\"B\",3:\"C\",4:\"D\",5:\"E\",}\n",
    "def load_dataset():\n",
    "    return[[letras[1],letras[2],letras[3],letras[4],letras[5]]]"
   ]
  },
  {
   "cell_type": "code",
   "execution_count": null,
   "metadata": {},
   "outputs": [],
   "source": []
  }
 ],
 "metadata": {
  "kernelspec": {
   "display_name": "Python 3",
   "language": "python",
   "name": "python3"
  },
  "language_info": {
   "codemirror_mode": {
    "name": "ipython",
    "version": 3
   },
   "file_extension": ".py",
   "mimetype": "text/x-python",
   "name": "python",
   "nbconvert_exporter": "python",
   "pygments_lexer": "ipython3",
   "version": "3.7.4"
  }
 },
 "nbformat": 4,
 "nbformat_minor": 2
}
